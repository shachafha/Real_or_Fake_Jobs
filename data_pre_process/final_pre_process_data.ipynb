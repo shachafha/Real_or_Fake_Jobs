{
 "cells": [
  {
   "cell_type": "code",
   "execution_count": 0,
   "metadata": {
    "application/vnd.databricks.v1+cell": {
     "cellMetadata": {
      "byteLimit": 2048000,
      "rowLimit": 10000
     },
     "inputWidgets": {},
     "nuid": "39d64223-6943-4585-a1ee-1cb9db44bd33",
     "showTitle": false,
     "tableResultSettingsMap": {},
     "title": ""
    }
   },
   "outputs": [
    {
     "output_type": "stream",
     "name": "stdout",
     "text": [
      "Collecting openpyxl\n  Obtaining dependency information for openpyxl from https://files.pythonhosted.org/packages/c0/da/977ded879c29cbd04de313843e76868e6e13408a94ed6b987245dc7c8506/openpyxl-3.1.5-py2.py3-none-any.whl.metadata\n  Using cached openpyxl-3.1.5-py2.py3-none-any.whl.metadata (2.5 kB)\nCollecting et-xmlfile (from openpyxl)\n  Obtaining dependency information for et-xmlfile from https://files.pythonhosted.org/packages/c1/8b/5fe2cc11fee489817272089c4203e679c63b570a5aaeb18d852ae3cbba6a/et_xmlfile-2.0.0-py3-none-any.whl.metadata\n  Using cached et_xmlfile-2.0.0-py3-none-any.whl.metadata (2.7 kB)\nUsing cached openpyxl-3.1.5-py2.py3-none-any.whl (250 kB)\nUsing cached et_xmlfile-2.0.0-py3-none-any.whl (18 kB)\nInstalling collected packages: et-xmlfile, openpyxl\nSuccessfully installed et-xmlfile-2.0.0 openpyxl-3.1.5\n\u001B[43mNote: you may need to restart the kernel using %restart_python or dbutils.library.restartPython() to use updated packages.\u001B[0m\nCollecting rapidfuzz\n  Obtaining dependency information for rapidfuzz from https://files.pythonhosted.org/packages/59/9d/eec7a1bfd3566fb17617b41bfb19556c483241d6864eea3c01b88efe5459/rapidfuzz-3.11.0-cp311-cp311-manylinux_2_17_x86_64.manylinux2014_x86_64.whl.metadata\n  Using cached rapidfuzz-3.11.0-cp311-cp311-manylinux_2_17_x86_64.manylinux2014_x86_64.whl.metadata (11 kB)\nUsing cached rapidfuzz-3.11.0-cp311-cp311-manylinux_2_17_x86_64.manylinux2014_x86_64.whl (3.1 MB)\nInstalling collected packages: rapidfuzz\nSuccessfully installed rapidfuzz-3.11.0\n\u001B[43mNote: you may need to restart the kernel using %restart_python or dbutils.library.restartPython() to use updated packages.\u001B[0m\n"
     ]
    }
   ],
   "source": [
    "%pip install openpyxl\n",
    "%pip install rapidfuzz\n"
   ]
  },
  {
   "cell_type": "code",
   "execution_count": 0,
   "metadata": {
    "application/vnd.databricks.v1+cell": {
     "cellMetadata": {
      "byteLimit": 2048000,
      "rowLimit": 10000
     },
     "inputWidgets": {},
     "nuid": "a3be92ac-98cb-47d7-9a45-2752d7e2c814",
     "showTitle": false,
     "tableResultSettingsMap": {},
     "title": ""
    }
   },
   "outputs": [],
   "source": [
    "dbutils.library.restartPython()"
   ]
  },
  {
   "cell_type": "code",
   "execution_count": 0,
   "metadata": {
    "application/vnd.databricks.v1+cell": {
     "cellMetadata": {
      "byteLimit": 2048000,
      "rowLimit": 10000
     },
     "inputWidgets": {},
     "nuid": "5a1a47c1-eb10-4587-b5d1-3a2366a8a281",
     "showTitle": false,
     "tableResultSettingsMap": {},
     "title": ""
    }
   },
   "outputs": [],
   "source": [
    "import pandas as pd\n",
    "from rapidfuzz.fuzz import ratio\n",
    "import numpy as np\n",
    "\n",
    "\n",
    "# Import the module\n",
    "import FeatureEngineering as FE"
   ]
  },
  {
   "cell_type": "markdown",
   "metadata": {
    "application/vnd.databricks.v1+cell": {
     "cellMetadata": {
      "byteLimit": 2048000,
      "rowLimit": 10000
     },
     "inputWidgets": {},
     "nuid": "b2488fa9-c7f2-432f-8d2e-fdd887a1d2e0",
     "showTitle": false,
     "tableResultSettingsMap": {},
     "title": ""
    }
   },
   "source": [
    "## Load and concatenate our scraped data"
   ]
  },
  {
   "cell_type": "code",
   "execution_count": 0,
   "metadata": {
    "application/vnd.databricks.v1+cell": {
     "cellMetadata": {
      "byteLimit": 2048000,
      "rowLimit": 10000
     },
     "inputWidgets": {},
     "nuid": "8caf711b-57ad-4bc4-85cb-b0296c455f17",
     "showTitle": false,
     "tableResultSettingsMap": {},
     "title": ""
    }
   },
   "outputs": [],
   "source": [
    "saar_df = pd.read_excel(\"data/full_jobs_data_saar_with_AI.xlsx\")\n",
    "shachaf_df = pd.read_excel(\"data/full_jobs_data_shachaf_with_AI.xlsx\")\n",
    "nitzan_df = pd.read_excel(\"data/full_jobs_data_nitzan_with_AI.xlsx\")\n",
    "shani_df = pd.read_excel(\"data/full_jobs_data_shani_with_AI.xlsx\")\n",
    "\n",
    "scraped_df = pd.concat([saar_df, shachaf_df, nitzan_df, shani_df])\n",
    "scraped_df['company_name'] = np.where(scraped_df['company'].notnull(), scraped_df['company'], scraped_df['company_gemini'])\n",
    "scraped_df['title'] = np.where(scraped_df['title'].notnull(), scraped_df['title'], scraped_df['job_title_gemini'])\n",
    "scraped_df['location'] = np.where(scraped_df['location'].notnull(), scraped_df['location'], scraped_df['location_gemini'])\n",
    "\n",
    "scraped_df.drop(['company'], axis=1, inplace=True)\n",
    "\n",
    "# Filter out rows with no company name\n",
    "scraped_df = scraped_df[scraped_df['company_name'].notnull()]\n",
    "scraped_df = scraped_df[scraped_df['company_name']!= 'None']\n"
   ]
  },
  {
   "cell_type": "code",
   "execution_count": 0,
   "metadata": {
    "application/vnd.databricks.v1+cell": {
     "cellMetadata": {
      "byteLimit": 2048000,
      "rowLimit": 10000
     },
     "inputWidgets": {},
     "nuid": "67533a60-fd2e-41ea-9a65-62c84b2bb730",
     "showTitle": false,
     "tableResultSettingsMap": {},
     "title": ""
    }
   },
   "outputs": [],
   "source": [
    "# Create small_job_url column\n",
    "scraped_df['small_job_url'] = scraped_df['job_url'].str[:100]\n",
    "\n",
    "# Remove duplicated jobs\n",
    "scraped_df = scraped_df.drop_duplicates(subset=['small_job_url'])\n",
    "\n",
    "# Remove column small_job_url\n",
    "scraped_df = scraped_df.drop(columns=['small_job_url'])\n"
   ]
  },
  {
   "cell_type": "code",
   "execution_count": 0,
   "metadata": {
    "application/vnd.databricks.v1+cell": {
     "cellMetadata": {
      "byteLimit": 2048000,
      "rowLimit": 10000
     },
     "collapsed": true,
     "inputWidgets": {},
     "nuid": "d9177f08-9d5e-40b8-8998-15b82320b6f7",
     "showTitle": false,
     "tableResultSettingsMap": {},
     "title": ""
    }
   },
   "outputs": [],
   "source": [
    "# mapping was manually created, mapping the company name from indeed to linkedin\n",
    "mapping = {\n",
    "    'Kodak': 'Eastman Kodak Company',\n",
    "    'Alight': 'Alight Solutions',\n",
    "    'California State University, San Bernardino': 'The California State University - Company',\n",
    "    'First Citizens': 'First Citizens Bank',\n",
    "    'Scholastic Corporation': 'Scholastic',\n",
    "\n",
    "    'Keurig Dr Pepper (KDP)':'Keurig Dr Pepper Inc.',\n",
    "    'Keurig Dr Pepper':'Keurig Dr Pepper Inc.',\n",
    "    'National Business Furniture (NBF)':'National Business Furniture',\n",
    "    'University of North Texas Health Science Center':'University of North Texas',\n",
    "    'Abercrombie & Fitch Co. (A&F Co.)':'Abercrombie & Fitch Co.',\n",
    "    'Kentucky State University':'Kentucky State University Land Grant Program',\n",
    "    'Kraft Heinz':'The Kraft Heinz Company',\n",
    "    'Miami Dade College (MDC)':'Miami Dade College',\n",
    "    'American Electric Power (AEP)': 'American Electric Power',\n",
    "    'Boston Beer Company':'The Boston Beer Company',\n",
    "    'Boston Beer Corporation':'The Boston Beer Company',\n",
    "    'Michaels':'Michaels Stores',\n",
    "    'National Park Service (NPS)':'National Park Service',\n",
    "    'Rite Aid':'RITE AID',\n",
    "    'Allegheny Health Network':'ALLEGHENY HEALTH NETWORK HEALTHCARE AT HOME',\n",
    "    'General Atomics Aeronautical Systems, Inc. (GA-ASI)': 'General Atomics',\n",
    "    'General Atomics Electromagnetic Systems (GA-EMS)': 'General Atomics',\n",
    "    'General Atomics (GA)':'General Atomics',\n",
    "    'Scotts Miracle-Gro':'The Scotts Miracle-Gro Company',\n",
    "    'Foothill - De Anza Community College District':'De Anza College',\n",
    "    'Foothill-De Anza Community College District':'De Anza College',\n",
    "    'University of Nebraska': 'University of Nebraska at Omaha',\n",
    "    'UConn Health':'University of Connecticut',\n",
    "    'Nimble':'nimble',\n",
    "    'Equip': 'equip',\n",
    "    'Bechtel':'BECHTEL JACOBS LLC',\n",
    "\n",
    "     'Abode Services': 'Abode Services Network, LLC', \n",
    " 'Arkansas State University (ASU)': 'Arkansas State University', \n",
    " 'Arkansas State University-Jonesboro (A-State)': 'Arkansas State University',\n",
    "'AT&T': 'AT&T Operations, Inc.',\n",
    "'BASF': 'BASF TOTAL Petrochemicals, LLC', \n",
    "'Baylor University, Louise Herrington School of Nursing': 'Baylor University',\n",
    "'Beacon Communities': 'Beacon Communities LLC', \n",
    "'Bentley University': 'Bentley University UXGA', \n",
    "'Billy Graham Evangelistic Association (BGEA)': 'Billy Graham Evangelistic Association', \n",
    "'Borough of Manhattan Community College (BMCC)': 'Borough of Manhattan Community College', \n",
    "'Bristol Health': 'BRISTOL HEALTH CARE INVESTORS, LLC', \n",
    "'Care New England Health System (CNE)': 'Care New England',\n",
    " 'Care New England Health System': 'Care New England', \n",
    " 'Clarion University of Pennsylvania': 'CLARION UNIVERSITY FOUNDATION, INC. CLARION UNIVERSITY OF PENNSYLVANI', \n",
    " 'Coldwell Banker': 'Coldwell Banker Lingle', \n",
    " 'Cumming School of Veterinary Medicine at Tufts University': 'Cummings School of Veterinary Medicine at Tufts University', \n",
    " 'Duquesne University School of Law': 'Duquesne University',\n",
    "  'Eastman Chemical Company': 'Eastman Chemical Company Dev',\n",
    "  'Elevate': 'ELEVATE',\n",
    "  'Employment Source Inc.': 'Employ Source, Inc.', \n",
    "  'Eye Level': 'Eye Level Learning', \n",
    "  'Frontier Management': 'FRONTIER MANAGEMENT OF NY', \n",
    "  'Frontier Nursing University (FNU)': 'Frontier Nursing University', \n",
    "  'Fullpower\\uf89b.-AI': 'Fullpower-AI', \n",
    "  \"Garrison's\": 'Garrisons Furniture & Collect', \n",
    "  'Greater Houston Pool Management': 'Greater Houston Pool Mgmt', \n",
    "  'Green Mechanical': 'Green Mechanical Corp., WBE', \n",
    "  'Habitat for Humanity International': 'HABITAT FOR HUMANITY INTERNATI', \n",
    "  'Hibbett Retail, Inc.': 'Hibbett', \n",
    "  'Hotshots Sports Bar & Grill': 'Hotshots Sports Bar & Grille - Mooresville', \n",
    "  'IEEE Computer Society': 'IEEE Computer Society SYP', \n",
    "  'Kamada Plasma': 'KAMADA PLASMA',\n",
    "  'Kinder Morgan': 'Kinder Morgan Cochin LLC',\n",
    "  'KTC': 'KTC Consulting, LLC',\n",
    "    'Kwik Fill': 'Kwik Fill Service Station', \n",
    "    'LCA Vision Inc.': 'Lca Vision Inc', \n",
    "    'Moore College of Art & Design': 'Moore College of Art and Design', \n",
    "    'National Geographic': 'National Geographics', \n",
    "    'Navy Federal Credit Union': 'NVAR Federal Credit Union', \n",
    "    'Oklahoma State University (OSU)': 'Oklahoma State University', \n",
    "    'Jackson Construction': 'R Jackson Construction Inc', \n",
    "    'The Ritz-Carlton Dove Mountain': 'RITZ-CARLTON DOVE MOUNTAIN, THE', \n",
    "    'Rush University Medical Center': 'RUSH UNIVERSITY MEDICAL CENTER AT LISLE', \n",
    "    'Samaritan Medical Center': 'Sinai Samaritan Medical Center', \n",
    "    'Stars and Strikes Family Entertainment Center': 'Stars and Strikes Family Entertainment Centers', \n",
    "    'Stars and Strikes Bowling Entertainment Center': 'Stars and Strikes Family Entertainment Centers', \n",
    "    'Stoney Creek Hotel & Conference Center': 'Stone Castle Hotel & Conference Center', \n",
    "    'TEXAS WATER DEVELOPMENT BOARD': 'Texas Water Development Board', \n",
    "    'The Goddard School': 'The Goddard School Chicago', \n",
    "    'The Venetian Resort': 'The Venetian Resort Las Vegas', \n",
    "    'United Launch Alliance': 'United Launch Alliance (ULA)', \n",
    "    \"University of Connecticut School of Medicine's Carole and Ray Neag Comprehensive Cancer Center\": 'University of Connecticut', \n",
    "    'U.S. Army Reserve': 'US Army Reserve', \n",
    "    'Visiting Angels': 'Visiting Angels Upland', \n",
    "    'Wallace Community College': 'Wallace State Community College', \n",
    "    'Wounded Warrior Project\\uf89b.': 'WOUNDED WARRIOR PROJECT LONG TERM SUPPORT TR', \n",
    "    'Atrium Health Wake Forest Baptist': 'Atrium Health Wake Forest Baptist Outpatient Imaging', \n",
    "    'Chevron Phillips Chemical': 'Chevron Phillips Chemical Company', \n",
    "    'Coldwell Banker Hedges Realty': 'Coldwell Banker Realty', \n",
    "    'Culpeper County': 'COUNTY OF CULPEPER',  \n",
    "    'Crabtown Cleaning': 'Crabtown Cleaning Service LLC', \n",
    "    'Crump Life Insurance': 'Crump Insurance', \n",
    "    'Del Grande Dealer Group (DGDG)': 'Del Grande Dealer Group', \n",
    "    \"Department of Veterans' Affairs\": 'DEPARTMENT OF VETRANS AFFAIRS', \n",
    "    'Eastern Michigan University (EMU)': 'Eastern Michigan University', \n",
    "    'Freedom Boat Club': 'Freedom Boat Club Delaware', \n",
    "    'Gardner Webb University': 'Gardner-Webb University', \n",
    "    'Greenwich House': 'GREENWICH HOUSE PRIMARY CARE', \n",
    "    'Harbor Freight Tools USA, Inc.': 'Harbor Freight Tools', \n",
    "    'HOBO Inc.': 'HOBO', \n",
    "    'Huntsville Memorial Hospital': 'Huntsville Hospital', \n",
    "    'Jack in the Box': 'Jack In the Box 3852', \n",
    "    'Los Angeles County': 'LOS ANGELES COUNTY USC', \n",
    "    'Maxim Healthcare': 'Maxin Health Care', \n",
    "    'Paramount Transportation Systems': 'Paramount Transportation Inc', \n",
    "    'Procter & Gamble': 'PROCTER& GAMBLE GREENSBORO-BROWN SUMMIT', \n",
    "    'Radford University': 'Radford University Davis College of Business and Economics', \n",
    "    'Raytheon': 'RAYTHEON SYSTEMS INTERNATIONAL COMPANY', \n",
    "    'Roya Institute of Studies': 'Roya Institute of Studies (RIS)', \n",
    "    'S&T Bank': 'S&T Bank Arena', \n",
    "    'Samsung Electronics America (SEA)': 'Samsung Electronics America', \n",
    "    'San Francisco Department of Public Health (SFDPH)': 'SAN FRANCISCO DEPARTMENT OF HEALTH', \n",
    "    'SONIC Drive-In': 'Sonic Drive-In of McDowell Rd', \n",
    "    'Stanford Medicine Development': 'Stanford Medicine X', \n",
    "    'UCLA School of Education and Information Studies (Ed&IS)': 'UCLA School of Education and Information Studies', \n",
    "    'United Site Services': 'UNITED SITE SERVICES OF TEXAS, INC.', \n",
    "    'United Skates of America Inc.': 'United Skates of America Inc', \n",
    "    'University of Colorado Anschutz Medical Campus': 'UNIV OF COLORADO ANSCHUTZ MEDICAL CAMPUS', \n",
    "    'University of Nebraska-Lincoln College of Architecture': 'University of Nebraska-Lincoln', \n",
    "    'University of New Mexico': 'UNIVERSITY OF NEW MEXICO HSC', \n",
    "    'University of North Texas Dallas College of Law': 'University of North Texas', \n",
    "    'University of North Texas at Dallas': 'University of North Texas', \n",
    "    'Bureau of Land Management (BLM)': 'US Bureau Of Land Management', \n",
    "    'West Virginia University': 'WEST VIRGINIA UNIVERSITY CHI ALPHA', \n",
    "    'Wisconsin Center for Education Research (WCER)': 'Wisconsin Center for Education Research', \n",
    "    'Alvin Community College (ACC)': 'Alvin Community College', \n",
    "    'AlzheimerגÄôs Association': 'Alzheimer Association', \n",
    "    'Arkansas State University - Mountain Home': 'Arkansas State University-Mountain Home', \n",
    "    'Ascension': 'Ascension NXT', \n",
    "    'Community College of Baltimore County': 'Community College of Baltimore County Hunt Valley CCBC', \n",
    "    'Community Medical Centers': 'Community Medical Center PS', \n",
    "    'Dal-Tile (a division of Mohawk Industries)': 'Dal-Tile', \n",
    "    'Department of Housing and Community Development (HCD)': 'DC Department of Housing and Community Development', \n",
    "    'Employment Development Department': 'Employment Development Dept', \n",
    "    'Fairfield Inn & Suites': 'Fair Field Inn & Suites', \n",
    "    'First United': 'First United Bank', \n",
    "    'Goodwill of Delaware & Delaware County': 'Goodwill of Delaware and Delaware County', \n",
    "    'Intoxalock (a Mindr brand)': 'Intoxalock', \n",
    "    'JCPenney Salon': 'Jcpenneysalon', \n",
    "    'Jewish Family Service': 'JEWISH FAMILY SERVICES OF ULSTER COUNTY', \n",
    "    'Landmark Theatres': 'Landmark Theatre', \n",
    "    'Lane Bryant': 'LANE BRYANT #4530, LLC', \n",
    "    'Louisiana State University (LSU) Manship School of Mass Communication': 'Louisiana State University', \n",
    "    'Louisiana State University (LSU)': 'Louisiana State University', \n",
    "    'Louisiana State University of Alexandria': 'Louisiana State University', \n",
    "    'Louisiana State University Eunice (LSUE)': 'Louisiana State University', \n",
    "    'McCarter & English': 'McCarter & English, LLP',  \n",
    "    'Ovation Workplace Services': 'OVATION Workplace Services', \n",
    "    'Pathway Family Services, LLC.': 'Pathway Family Services, LLC', \n",
    "    'Phelps Industries LLC': 'PHELPS INDUSTRIAL SEALS LLC', \n",
    "    'Point Inside Inc.': 'Point Inside', \n",
    "    'Revvity (Horizon Discovery)': 'Revvity', \n",
    "    'Scientific Applications & Research Associates, Inc. (SARA)': 'Scientific Applications & Research Associates, (SARA) Inc.', \n",
    "    'SPHERE': 'Sphere', \n",
    "    'George Washington University (GWU)': 'The George Washington University', \n",
    "    'George Washington University': 'The George Washington University', \n",
    "    'University of Texas at El Paso (UTEP)': 'The University of Texas at El Paso', \n",
    "    'University of Nebraska at Omaha (UNO)': 'University of Nebraska at Omaha', \n",
    "    'The University of Texas at Tyler': 'University of Texas at Tyler', \n",
    "    'Vista Theater': 'Vista Theatre', \n",
    "    'VITAS Healthcare Corporation': 'VITAS HEALTHCARE CORPORATION OF FL', \n",
    "    'WEE CARE PRESCHOOL': 'Wee Care Preschool Inc', \n",
    "    'WESCO (implied)': 'Wesco', \n",
    "    'Augmedics (implied)': 'Augmedics', \n",
    "    'Blue Bird Day LLC': 'Blue Bird Day Care', \n",
    "    'Blue Cross and Blue Shield of Nebraska (BCBSNE)': 'Blue Cross and Blue Shield of Nebraska', \n",
    "    'Capstone Logistics LLC': 'Capstone Logistics, LLC', \n",
    "    'Carolina Healthcare System': 'Carolinas HealthCare System', \n",
    "    'Carpet One Floor & Home': 'Carpet One Floor & Homes', \n",
    "    'Centers for Disease Control and Prevention': 'CENTERS FOR DISEASE CONTROL AND PREVENTION, US PUBLIC HEALTH SERVICE', \n",
    "    'Chugach Government Solutions': 'Chugach Government Solutions, LLC', \n",
    "    'City of Lancaster': 'City of Lancaster, Pennsylvania', \n",
    "    'City Wide Facility Solutions': 'City Wide Facility Solutions - Des Moines', \n",
    "    'Clinical Health Network for Transformation (CHN)': 'Clinical Health Network For Transformation (CHN)', \n",
    "    'Close Up': 'Close Up Foundation', \n",
    "    'Dana-Farber Cancer Institute (DFCI) and Harvard Medical School': 'Dana-Farber Cancer Institute', \n",
    "    'Dana-Farber Cancer Institute and Harvard Medical School': 'Dana-Farber Cancer Institute', \n",
    "    \"Davidson's\": \"Davidson's Inc.\", \n",
    "    'Day & Zimmermann': 'Day & Zimmerman NPS, Inc.', \n",
    "    'Department of Social Services': 'Department For Social Service', \n",
    "    'Duke City Recovery Toolbox': 'DUKE CITY RECOVERY TOOLBOX', \n",
    "    'Duke Energy': 'Duke Energy Corporation', \n",
    "    'Electronic Environments': 'Electronic Environment', \n",
    "    'Equinox Fitness Clubs': 'EQUINOX FITNESS CLUBS', \n",
    "    'Fast N Friendly Stores': 'Fast N Friendly',\n",
    "     \"First Citizens Bank (Silicon Valley Bank's Global Fund Banking Team)\": 'First Citizens Bank', \n",
    "     'Fun Spot America': 'Fun Spot America Orlando', \n",
    "     'Gensco': 'Gensco Inc', \n",
    "     'Hennepin Healthcare': 'Hennepin Healthcare Research Institute', \n",
    "     'Henry Street Settlement': 'HENRY STREET SETTLEMENT HOME CARE SERVICES', \n",
    "     'IEEE EMBS': 'IEEE', \n",
    "     'IEEE (implied)': 'IEEE', \n",
    "     'iHeartMedia Markets': 'iHeartMedia', \n",
    "     'Indiana University': 'INDIANA UNIVERITY', \n",
    "     'Integrated Physicians Management Services': 'Integrated Physician Management Services, Inc.', \n",
    "     'Katalyst Healthcares & Life Sciences': 'Katalyst HealthCares & Life Sciences', \n",
    "     'Kelsey-Seybold Clinic': \"KELSEY-SEYBOLD CLINIC/WOMEN'S CENTER\", \n",
    "     'Krispy Kreme': 'Krispy Kreme Dougnuts', \n",
    "     'Lincoln Public Schools': 'Lincoln County Public Schools', \n",
    "     'Little Caesars': 'Little Casears', \n",
    "     'Lutheran Social Services of WI & UP MI': 'Lutheran Social Services of WI & Upper MI', \n",
    "     'The Newberry Group': 'Newberry Group', \n",
    "     'Organon': 'Organon API Inc.', \n",
    "     \"Peet's\": \"Peet's Coffee\", \n",
    "     'PG&E': 'PG&E Generating Company, LLC', \n",
    "     'Police Athletic League (PAL)': 'Police Athletic League Field', \n",
    "     'Power Home Remodeling Group': 'Power Home Remodeling', \n",
    "     'Seton Catholic Schools': 'Seton Catholic School', \n",
    "     'South Shore Health': 'SOUTH SHORE HEALTH CARE, LLC', \n",
    "     'Strategix': 'Strategix Management Co Llc', \n",
    "     'Boston Beer': 'The Boston Beer Company', \n",
    "     'Ohio State University Wexner Medical Center': 'The Ohio State University Wexner Medical Center', \n",
    "     'Spartanburg County Foundation': 'The Spartanburg County Foundation', \n",
    "     'University of Texas at Arlington': 'The University of Texas at Arlington - College of Business', \n",
    "     'University of California, Irvine School of Education': 'UNIVERISTY OF CALIFORNIA', \n",
    "     'Universal Strategy Group Inc': 'UNIVERSAL STRATEGY GROUP, INC.', \n",
    "     'University of Minnesota Physicians (M Physicians)': 'University of Minnesota Physicians', \n",
    "     'Wavemaker': 'Wavemakers', \n",
    "     'Wee Care Early Learning Center': 'Wee Care Early Learning Ctr', \n",
    "     'WoodHouse': 'Woodhouse LLC',\n",
    "     'Amazon Services': 'Amazon', 'Anderson Health Services': 'Anderson Mental Health Services LLC', 'Arkansas State University (A-State)': 'Arkansas State University', 'Barnes-Jewish Hospital': 'BARNES JWEISH HOSPITAL', 'Blue Cross Blue Shield Association (BCBSA)': 'Blue Cross Blue Shield Association', 'A Brighter Future Healthcare Services': 'BRIGHTER FUTURE HEALTH CARE SERVICE', 'Chariot Automotive Group': 'Chariot Automotive', 'City of Great Falls': 'CITY OF GREAT FALLS', 'Commander, Navy Installations Command': 'Commander, Navy Installations Command (CNIC) HQ', 'Community Support Services Inc': 'Community Support Services, Inc.', 'Duquesne University: Rangos School of Health Sciences': 'Duquesne University', 'Federation of American Scientists (FAS)': 'Federation of American Scientists', 'First United Bank & Trust': 'First Bank & Trust', 'Great Plains Manufacturing': 'Great Plains Manufacturing, Inc.', 'Jean-Georges Management': 'JEAN-GEORGES MANAGEMENT', 'Johnson Outdoors': 'Johnson Outdoors Gear LLC', 'Live Nation Entertainment': 'Live Action Entertainment', 'Managed Funds Association (MFA)': 'Managed Funds Association', 'Macon County Health Department': 'MASON COUNTY HEALTH DEPARTMENT', 'Northwestern State University of Louisiana': 'Northwestern State University', 'Onsight Healthcare': 'ONSIGHT HEALTHCARE LLC', 'Penn Veterinary Supply': 'Penn Veterinary Supply Inc.', 'Planned Parenthood South Atlantic (PPSAT)': 'PLANNED PARENTHOOD VOTES SOUTH ATLANTIC', 'Stoneybrook Apartments': 'Stonybrook Apartments', 'Kraft Heinz Company': 'The Kraft Heinz Company', 'University of Oklahoma': 'The University of Oklahoma PRSSA', 'University of Connecticut (UConn)': 'University of Connecticut', 'University of Connecticut School of Medicine and UConn Health': 'University of Connecticut', 'University of Connecticut Health Center': 'UNIVERSITY OF CONNECTICUT HEATLH CENTER', 'University of North Carolina at Charlotte, College of Education': 'University of North Carolina at Charlotte', 'Vanderbilt University Medical Center': 'VANDERBILT MEDICAL CENTER', 'Williams-Sonoma, Inc.': 'WILLIAMS-SONOMA DIRECT, INC.', 'Abercrombie & Fitch': 'Abercrombie & Fitch Co.', 'Abercrombie and Fitch Stores': 'Abercrombie & Fitch Stores Inc', 'Blue Cross and Blue Shield of Kansas': 'Blue Cross and Blue Shield of Kansas City', 'Catholic Charities': 'CHATHOLIC CHARITIES', 'Department of Veterans Affairs': 'DEPARTMENT OF VETRANS AFFAIRS', 'Innovations for Poverty Action (IPA)': 'Innovations for Poverty Action', 'LaborersגÄô International Union of North America (LiUNA!)': 'LABORERS INTERNATION UNION OF NORTH AMERICA', 'Michigan Technological University (MTU)': 'Michigan Technological University', 'Needs Center': 'NEEDS Center', 'Permian Resources': 'Permian Resources Inc', 'Progressive Alloy Steel Unlimited, Inc.': 'Progressive Alloy Steels Unlimited, Inc', 'Resource Management Concepts, Inc. (RMC)': 'Resource Management Concepts, Inc.', 'Sea Mar Community Health Centers': 'SEA MAR COMMUNITY HEALTH CENTERS - FOURTH PLAIN', \"St. Elizabeth's Medical Center\": \"ST. ELIZABETH'S MEDICAL CENTERS\", 'The Grove, Inc. (TGI)': 'The Grove, Inc.', 'Total Quality Logistics (TQL)': 'Total Quality Logistics', 'U.S. Department of Energy': 'U.S. Department of Energy (DOE)', 'UCAR (University Corporation for Atmospheric Research)': 'UCAR - The University Corporation for Atmospheric Research', 'University of Maryland Medical Center (UMMC)': 'UNIVERSITY OF MARYLAND MEDICAL', 'Wisconsin Public Radio (WPR)': 'Wisconsin Public Radio', 'Yakshna Solutions, Inc. (YSI)': 'Yakshna Solutions', 'Advanced Fluids Inc.': 'Advanced Fluids Inc', 'American Public Health Association (APHA)': 'American Public Health Association', 'Arkansas State University גÄì Mountain Home': 'Arkansas State University-Mountain Home', 'Arkansas State University-Mountain Home (ASUMH)': 'Arkansas State University-Mountain Home', 'Blue Cross Blue Shield of Michigan (BCBSM)': 'Blue Cross Blue Shield of Michigan', 'Centerstone': 'Center Stone', 'Chhaya CDC': 'CHHAYA C.D.C', \"Coborn's Inc\": \"Coborn's, Inc.\", 'Coca-Cola Consolidated Inc': 'Coca-Cola Consolidated', 'Coca-Cola Consolidated, Inc.': 'Coca-Cola Consolidated', 'J.F. Drake State Community and Technical College': 'Drake State Community and Technical College', 'Fair Haven Community Health Care (FHCHC)': 'Fair Haven Community Health Care', 'Grand Valley State University (GVSU)': 'Grand Valley State University', 'Haumiller Engineering Co': 'Haumiller Engineering', 'Indiana University Health': 'INDIANA UNIVERSITY HEALTH MORGAN HOSPITAL, INC.', 'Jim McKay Chevrolet Inc.': 'Jim McKay Chevrolet', 'Koch Foods, Inc': 'Kochs Foods Inc', 'Johnson Construction Group': 'L Johnson Construction', 'The Los Angeles Film School': 'Los Angeles Film School', 'Louisiana State University Eunice': 'Louisiana State University', 'Moderna': 'moDerna', 'County of Napa': 'NAPA, COUNTY OF', 'National Heritage Academies (NHA)': 'National Heritage Academies', 'Oak Ridge National Laboratory (ORNL)': 'Oak Ridge National Laboratory', 'Opportunity Finance Network (OFN)': 'Opportunity Finance Network', 'Primera Analytical Solutions': 'Primera Analytical Solutions Corporation', 'Richmond Heritage Federal Credit Union (RHFCU)': 'Richmond Heritage Federal Credit Union', 'Siertek Ltd': 'SIERTEK LTD', 'GWTemps (George Washington University)': 'The George Washington University', 'George Washington University (GW)': 'The George Washington University', 'University Corporation for Atmospheric Research': 'UNIVERSITY CORPORATION FOR ATMOSPHERIC RESEARCH FOUNDATION', 'University of Nebraska Omaha (UNO)': 'University of Nebraska at Omaha', 'University of Wisconsin - Madison': 'University of Wisconsin-Madison', 'WinStar World Casino & Resort': 'WinStar World Casino and Resort', 'Advance Services, Inc.': 'Advanced Services Inc.', 'American Wood Council (AWC)': 'American Wood Council', 'Chipotle Mexican Grill': 'Chiptole Mexican Grill', 'Dana-Farber Cancer Institute and the Broad Institute': 'Dana-Farber Cancer Institute', 'Division of Rehabilitation Services (Stout Household)': 'Division of Rehabilitation Services', 'First Citizens Bank.': 'First Citizens Bank', 'First Citizens Bank (Iowa)': 'First Citizens Bank', 'Florida State University (FSU)': 'Florida State University', 'Fralock': 'FRALOCK', 'City of Frederick': 'FREDERICK, CITY OF', 'Friendship Honda of Boone': 'Friendship Honda Of Boone', 'Georgia Institute of Technology (Georgia Tech), Scheller College of Business': 'Georgia Institute of Technology', 'Holy Cross Energy (HCE)': 'Holy Cross Energy', 'iHeartMedia, Inc.': 'iHeartMedia', 'Lutheran Social Services of WI and Upper MI (LSS)': 'Lutheran Social Services of WI & Upper MI', 'US National Park Service': 'National Park Service', 'NewYork-Presbyterian/Columbia University Irving Medical Center': 'NEW YORK PRESBYTERIAN- COLUMBIA UNIVERSITY MEDICAL CENTER', 'The Art Institute of Chicago': 'SCHOOL OF THE ART INSTITUTE OF CHICAGO - HLTH SVCS', 'Springer Capital': 'Springer Capital Corp', \"St. Joseph's Hospital and Medical Center\": 'ST. JOSEPH HOSPITAL AND MEDICAL CENTER', 'Stanford School of Medicine': 'Stanford School Of Medicine', 'Stanford University, School of Medicine': 'Stanford University School of Medicine', 'Brookings Institution': 'The Brookings Institution', 'University of California, Santa Barbara (UCSB)': 'UNIVERISTY OF CALIFORNIA', 'University of California, Davis': 'UNIVERSITY OF CALIFORNIA, DAVIS MEDICAL CENTER', 'University of Kentucky': 'UNIVERSITY OF KENTUKCY', 'University of North Florida (UNF)': 'University of North Florida', 'University of Nevada, Las Vegas (UNLV)': 'UNLV - University of Nevada, Las Vegas', 'UCSF Department of Psychiatry and Behavioral Sciences': 'USC Department of Psychiatry and the Behavioral Sciences', 'West Virginia University Research Corporation': 'WEST VIRGINIA UNIVERSITY RESEARCH CORPORATION',\n",
    "\n",
    "     'Harbor Health': 'Arbor Health', 'Baylor College of Medicine (BCM)': 'Baylor College of Medicine', 'Chamberlin House, Inc.': 'Chamberlin House Inc', 'Dances with Dogs': 'Dances With Dogs', 'Kingsley Area Schools': 'KINGSLEY AREA SCHOOLS', 'Orbital Sidekick (OSK)': 'Orbital Sidekick', 'University of Pittsburgh': 'PGN - University of Pittsburgh', 'Roofing & Restoration Services of America (RRSA)': 'Roofing and Restoration Services of America', 'Uzin Utz North America': 'UZIN UTZ North America', 'West Chester University of Pennsylvania Facilities Division': 'West Chester University of Pennsylvania', 'AEG Worldwide': 'Aeg Worldwide Inc', 'Arbors at Sylvania': 'ARBORS AT SYLVANIA', 'Aviation Institute of Maintenance גÄì Dallas': 'Aviation Institute of Maintenance', 'California State University San Marcos': 'California State University San Marcos MBA', 'Chevron Phillips Chemical Company LP (CPChem)': 'Chevron Phillips Chemical Company', 'Frontier Airlines, Inc': 'Frontier Airlines', 'Regency Theatres': 'Regency Theaters', 'The Brooklyn Hospital Center (TBHC)': 'The Brooklyn Hospital Center', 'University of Nebraska-Lincoln (UNL)': 'University of Nebraska-Lincoln', 'Winston-Salem Forsyth County Schools': 'Winston-Salem/Forsyth County Schools', 'Baptist Health Lexington (BHLex)': 'Baptist Health Lexington','California State University, San Bernardino (CSUSB)': 'California State University-San Bernardino', \"Children's Hospital & Medical Center\": \"Children's Hospital & Medical Center - Omaha\", 'Community Management Corporation': 'Community Management Corporation / Associa', 'Hospital for Special Surgery (HSS)': 'Hospital for Special Surgery', 'Johnson Giant Foods': 'Johnson Giant Foods 1', 'Miller Paneling Specialties': 'Miller Paneling Specs', 'University of Texas at El Paso': 'The University of Texas at El Paso', 'University of Nebraska Omaha': 'University of Nebraska at Omaha', 'Corsica Technologies, LLC': 'Corsica Technologies', 'Dana-Farber Cancer Institute (DFCI)': 'Dana-Farber Cancer Institute', 'Healthfirst': 'HealthFirst', 'Lutheran Social Services of WI and Upper MI': 'Lutheran Social Services of WI & Upper MI', 'Nucor Building Systems Indiana': 'Nucor Building Systems', 'Southland Industries Inc.': 'Sutherland Industries Inc', 'Tri City Extrusion Inc.': 'Tri-City Extrusion, Inc', 'University of California': 'UNIVERISTY OF CALIFORNIA', 'University of California, Los Angeles (UCLA)': 'UNIVERISTY OF CALIFORNIA', 'University of Michigan': 'University of Michigan Press'\n",
    "    \n",
    "}"
   ]
  },
  {
   "cell_type": "code",
   "execution_count": 0,
   "metadata": {
    "application/vnd.databricks.v1+cell": {
     "cellMetadata": {
      "byteLimit": 2048000,
      "rowLimit": 10000
     },
     "inputWidgets": {},
     "nuid": "7adbd86c-b682-4ff3-8cbc-7afbf22be35a",
     "showTitle": false,
     "tableResultSettingsMap": {},
     "title": ""
    }
   },
   "outputs": [],
   "source": [
    "# change company_name data based on mapping dict, if name not exists in mapping then keep at it is\n",
    "scraped_df['company_name'] = scraped_df['company_name'].apply(lambda x: mapping.get(x, x))"
   ]
  },
  {
   "cell_type": "code",
   "execution_count": 0,
   "metadata": {
    "application/vnd.databricks.v1+cell": {
     "cellMetadata": {
      "byteLimit": 2048000,
      "rowLimit": 10000
     },
     "inputWidgets": {},
     "nuid": "78c4a8f1-e911-4075-80d0-88913fed8045",
     "showTitle": false,
     "tableResultSettingsMap": {},
     "title": ""
    }
   },
   "outputs": [
    {
     "output_type": "execute_result",
     "data": {
      "text/plain": [
       "(13984, 22)"
      ]
     },
     "execution_count": 6,
     "metadata": {}
    }
   ],
   "source": [
    "scraped_df.shape"
   ]
  },
  {
   "cell_type": "markdown",
   "metadata": {
    "application/vnd.databricks.v1+cell": {
     "cellMetadata": {
      "byteLimit": 2048000,
      "rowLimit": 10000
     },
     "inputWidgets": {},
     "nuid": "5d5e373c-d803-496c-a56a-97e2dfb5a571",
     "showTitle": false,
     "tableResultSettingsMap": {},
     "title": ""
    }
   },
   "source": [
    "##Check other team company name column"
   ]
  },
  {
   "cell_type": "code",
   "execution_count": 0,
   "metadata": {
    "application/vnd.databricks.v1+cell": {
     "cellMetadata": {
      "byteLimit": 2048000,
      "rowLimit": 10000
     },
     "inputWidgets": {},
     "nuid": "7ec73409-af5e-4c33-8c49-859c3f402d9f",
     "showTitle": false,
     "tableResultSettingsMap": {},
     "title": ""
    }
   },
   "outputs": [],
   "source": [
    "# Add dataset from other team after enriching with AI\n",
    "other_team  = pd.read_excel(\"data/full_jobs_data_other_team_with_AI.xlsx\")"
   ]
  },
  {
   "cell_type": "code",
   "execution_count": 0,
   "metadata": {
    "application/vnd.databricks.v1+cell": {
     "cellMetadata": {
      "byteLimit": 2048000,
      "rowLimit": 10000
     },
     "inputWidgets": {},
     "nuid": "2f0b3cc3-3198-489b-aaf7-9a7d6aea6228",
     "showTitle": false,
     "tableResultSettingsMap": {},
     "title": ""
    }
   },
   "outputs": [],
   "source": [
    "# Define a function to calculate similarity\n",
    "def calculate_similarity(row):\n",
    "    if pd.isna(row['company_name']) or pd.isna(row['company_gemini']):\n",
    "        return 0  # Handle missing values\n",
    "    return ratio(row['company_name'], row['company_gemini'])\n",
    "\n",
    "# Apply the function to create a new column\n",
    "other_team['similarity'] = other_team.apply(calculate_similarity, axis=1)"
   ]
  },
  {
   "cell_type": "code",
   "execution_count": 0,
   "metadata": {
    "application/vnd.databricks.v1+cell": {
     "cellMetadata": {
      "byteLimit": 2048000,
      "rowLimit": 10000
     },
     "inputWidgets": {},
     "nuid": "d54cca65-4eb4-4a8e-b8a4-18245126fe0c",
     "showTitle": false,
     "tableResultSettingsMap": {},
     "title": ""
    }
   },
   "outputs": [
    {
     "output_type": "execute_result",
     "data": {
      "text/plain": [
       "(3332, 19)"
      ]
     },
     "execution_count": 9,
     "metadata": {}
    }
   ],
   "source": [
    "other_team.shape"
   ]
  },
  {
   "cell_type": "code",
   "execution_count": 0,
   "metadata": {
    "application/vnd.databricks.v1+cell": {
     "cellMetadata": {
      "byteLimit": 2048000,
      "rowLimit": 10000
     },
     "inputWidgets": {},
     "nuid": "254cf5f8-60c4-414d-b401-4940f2d59916",
     "showTitle": false,
     "tableResultSettingsMap": {},
     "title": ""
    }
   },
   "outputs": [
    {
     "output_type": "execute_result",
     "data": {
      "text/html": [
       "<div>\n",
       "<style scoped>\n",
       "    .dataframe tbody tr th:only-of-type {\n",
       "        vertical-align: middle;\n",
       "    }\n",
       "\n",
       "    .dataframe tbody tr th {\n",
       "        vertical-align: top;\n",
       "    }\n",
       "\n",
       "    .dataframe thead th {\n",
       "        text-align: right;\n",
       "    }\n",
       "</style>\n",
       "<table border=\"1\" class=\"dataframe\">\n",
       "  <thead>\n",
       "    <tr style=\"text-align: right;\">\n",
       "      <th></th>\n",
       "      <th>company_name</th>\n",
       "      <th>company_gemini</th>\n",
       "      <th>similarity</th>\n",
       "    </tr>\n",
       "  </thead>\n",
       "  <tbody>\n",
       "    <tr>\n",
       "      <th>0</th>\n",
       "      <td>Self-employed</td>\n",
       "      <td>InboxDone</td>\n",
       "      <td>18.181818</td>\n",
       "    </tr>\n",
       "    <tr>\n",
       "      <th>1</th>\n",
       "      <td>Self-employed</td>\n",
       "      <td>ENCS Networks</td>\n",
       "      <td>23.076923</td>\n",
       "    </tr>\n",
       "    <tr>\n",
       "      <th>2</th>\n",
       "      <td>AT&amp;T</td>\n",
       "      <td>Big Lots</td>\n",
       "      <td>0.000000</td>\n",
       "    </tr>\n",
       "    <tr>\n",
       "      <th>3</th>\n",
       "      <td>Self-employed</td>\n",
       "      <td>InboxDone</td>\n",
       "      <td>18.181818</td>\n",
       "    </tr>\n",
       "    <tr>\n",
       "      <th>4</th>\n",
       "      <td>Self-employed</td>\n",
       "      <td>glocled</td>\n",
       "      <td>40.000000</td>\n",
       "    </tr>\n",
       "    <tr>\n",
       "      <th>...</th>\n",
       "      <td>...</td>\n",
       "      <td>...</td>\n",
       "      <td>...</td>\n",
       "    </tr>\n",
       "    <tr>\n",
       "      <th>3327</th>\n",
       "      <td>Access Intelligence</td>\n",
       "      <td>A2- Federal Family</td>\n",
       "      <td>27.027027</td>\n",
       "    </tr>\n",
       "    <tr>\n",
       "      <th>3328</th>\n",
       "      <td>Access Intelligence</td>\n",
       "      <td>ZeroFox</td>\n",
       "      <td>7.692308</td>\n",
       "    </tr>\n",
       "    <tr>\n",
       "      <th>3329</th>\n",
       "      <td>Access Intelligence</td>\n",
       "      <td>U.S. Department of State</td>\n",
       "      <td>23.255814</td>\n",
       "    </tr>\n",
       "    <tr>\n",
       "      <th>3330</th>\n",
       "      <td>Access Intelligence</td>\n",
       "      <td>Karthik Consulting</td>\n",
       "      <td>27.027027</td>\n",
       "    </tr>\n",
       "    <tr>\n",
       "      <th>3331</th>\n",
       "      <td>Access Intelligence</td>\n",
       "      <td>Allied Universal® Enhanced Protection Services</td>\n",
       "      <td>33.846154</td>\n",
       "    </tr>\n",
       "  </tbody>\n",
       "</table>\n",
       "<p>3332 rows × 3 columns</p>\n",
       "</div>"
      ],
      "text/plain": [
       "             company_name  ... similarity\n",
       "0           Self-employed  ...  18.181818\n",
       "1           Self-employed  ...  23.076923\n",
       "2                    AT&T  ...   0.000000\n",
       "3           Self-employed  ...  18.181818\n",
       "4           Self-employed  ...  40.000000\n",
       "...                   ...  ...        ...\n",
       "3327  Access Intelligence  ...  27.027027\n",
       "3328  Access Intelligence  ...   7.692308\n",
       "3329  Access Intelligence  ...  23.255814\n",
       "3330  Access Intelligence  ...  27.027027\n",
       "3331  Access Intelligence  ...  33.846154\n",
       "\n",
       "[3332 rows x 3 columns]"
      ]
     },
     "execution_count": 10,
     "metadata": {}
    }
   ],
   "source": [
    "other_team[['company_name','company_gemini','similarity']]"
   ]
  },
  {
   "cell_type": "code",
   "execution_count": 0,
   "metadata": {
    "application/vnd.databricks.v1+cell": {
     "cellMetadata": {
      "byteLimit": 2048000,
      "rowLimit": 10000
     },
     "inputWidgets": {},
     "nuid": "04af03ba-f6a0-4eac-bdb0-36a832eef298",
     "showTitle": false,
     "tableResultSettingsMap": {},
     "title": ""
    }
   },
   "outputs": [],
   "source": [
    "# keep rows with similarity > 80\n",
    "other_team = other_team.query(\"similarity > 80\")\n",
    "# drop similarity column\n",
    "other_team = other_team.drop(columns=['similarity'])"
   ]
  },
  {
   "cell_type": "code",
   "execution_count": 0,
   "metadata": {
    "application/vnd.databricks.v1+cell": {
     "cellMetadata": {
      "byteLimit": 2048000,
      "rowLimit": 10000
     },
     "inputWidgets": {},
     "nuid": "434e1e73-b76a-4e0f-b67c-8831a41338a7",
     "showTitle": false,
     "tableResultSettingsMap": {},
     "title": ""
    }
   },
   "outputs": [],
   "source": [
    "# remane other_team columns\n",
    "other_team.rename(columns={'url': 'job_url','type':'job_type','description':'job_description'}, inplace=True)"
   ]
  },
  {
   "cell_type": "code",
   "execution_count": 0,
   "metadata": {
    "application/vnd.databricks.v1+cell": {
     "cellMetadata": {
      "byteLimit": 2048000,
      "rowLimit": 10000
     },
     "inputWidgets": {},
     "nuid": "20f90410-0fe2-46b7-9a66-84faa1b2079d",
     "showTitle": false,
     "tableResultSettingsMap": {},
     "title": ""
    }
   },
   "outputs": [
    {
     "output_type": "execute_result",
     "data": {
      "text/plain": [
       "(1208, 18)"
      ]
     },
     "execution_count": 13,
     "metadata": {}
    }
   ],
   "source": [
    "other_team.shape"
   ]
  },
  {
   "cell_type": "markdown",
   "metadata": {
    "application/vnd.databricks.v1+cell": {
     "cellMetadata": {
      "byteLimit": 2048000,
      "rowLimit": 10000
     },
     "inputWidgets": {},
     "nuid": "1669711a-fbff-4612-bfec-9a8c4a325f50",
     "showTitle": false,
     "tableResultSettingsMap": {},
     "title": ""
    }
   },
   "source": [
    "## concatenate all data and map company indeed names to linkedin names"
   ]
  },
  {
   "cell_type": "code",
   "execution_count": 0,
   "metadata": {
    "application/vnd.databricks.v1+cell": {
     "cellMetadata": {
      "byteLimit": 2048000,
      "rowLimit": 10000
     },
     "inputWidgets": {},
     "nuid": "aa8fe772-110e-4dff-bdd5-ae798c5e6c5f",
     "showTitle": false,
     "tableResultSettingsMap": {},
     "title": ""
    }
   },
   "outputs": [],
   "source": [
    "full_data = pd.concat([scraped_df, other_team])"
   ]
  },
  {
   "cell_type": "code",
   "execution_count": 0,
   "metadata": {
    "application/vnd.databricks.v1+cell": {
     "cellMetadata": {
      "byteLimit": 2048000,
      "rowLimit": 10000
     },
     "inputWidgets": {},
     "nuid": "d86c0eab-01e2-4872-a94d-74a7df77581b",
     "showTitle": false,
     "tableResultSettingsMap": {},
     "title": ""
    }
   },
   "outputs": [
    {
     "output_type": "execute_result",
     "data": {
      "text/plain": [
       "(15192, 22)"
      ]
     },
     "execution_count": 15,
     "metadata": {}
    }
   ],
   "source": [
    "full_data.shape"
   ]
  },
  {
   "cell_type": "markdown",
   "metadata": {
    "application/vnd.databricks.v1+cell": {
     "cellMetadata": {
      "byteLimit": 2048000,
      "rowLimit": 10000
     },
     "inputWidgets": {},
     "nuid": "24857c93-7b03-4b8a-8932-1b08d8133c47",
     "showTitle": false,
     "tableResultSettingsMap": {},
     "title": ""
    }
   },
   "source": [
    "## Load big data companies table"
   ]
  },
  {
   "cell_type": "code",
   "execution_count": 0,
   "metadata": {
    "application/vnd.databricks.v1+cell": {
     "cellMetadata": {
      "byteLimit": 2048000,
      "rowLimit": 10000
     },
     "inputWidgets": {},
     "nuid": "fc1598de-ffdf-4232-9054-a9e98a354376",
     "showTitle": false,
     "tableResultSettingsMap": {},
     "title": ""
    }
   },
   "outputs": [],
   "source": [
    "companies = spark.read.parquet('/dbfs/linkedin_train_data')"
   ]
  },
  {
   "cell_type": "markdown",
   "metadata": {
    "application/vnd.databricks.v1+cell": {
     "cellMetadata": {
      "byteLimit": 2048000,
      "rowLimit": 10000
     },
     "inputWidgets": {},
     "nuid": "7ee217cc-ee31-4dc8-b718-4bcf3c12819e",
     "showTitle": false,
     "tableResultSettingsMap": {},
     "title": ""
    }
   },
   "source": [
    "### Keep jobs with companies from companies table"
   ]
  },
  {
   "cell_type": "code",
   "execution_count": 0,
   "metadata": {
    "application/vnd.databricks.v1+cell": {
     "cellMetadata": {
      "byteLimit": 2048000,
      "rowLimit": 10000
     },
     "inputWidgets": {},
     "nuid": "a8353816-8594-457d-bab2-c82e687b81f5",
     "showTitle": false,
     "tableResultSettingsMap": {},
     "title": ""
    }
   },
   "outputs": [],
   "source": [
    "# keep only jobs in full_data with company_name that exists in companies.name where companies is spark and full_data is pandas\n",
    "companies_list = [row['name'] for row in companies.collect()]\n",
    "full_data = full_data[full_data['company_name'].isin(companies_list)]"
   ]
  },
  {
   "cell_type": "code",
   "execution_count": 0,
   "metadata": {
    "application/vnd.databricks.v1+cell": {
     "cellMetadata": {
      "byteLimit": 2048000,
      "rowLimit": 10000
     },
     "inputWidgets": {},
     "nuid": "2a0fbe3e-5503-41b9-9b45-46de7adfe5ef",
     "showTitle": false,
     "tableResultSettingsMap": {},
     "title": ""
    }
   },
   "outputs": [
    {
     "output_type": "execute_result",
     "data": {
      "text/plain": [
       "(5236, 22)"
      ]
     },
     "execution_count": 18,
     "metadata": {}
    }
   ],
   "source": [
    "full_data.shape"
   ]
  },
  {
   "cell_type": "code",
   "execution_count": 0,
   "metadata": {
    "application/vnd.databricks.v1+cell": {
     "cellMetadata": {
      "byteLimit": 2048000,
      "rowLimit": 10000
     },
     "inputWidgets": {},
     "nuid": "bc3c2fe6-a166-4841-9b95-23c4c0e5b2b2",
     "showTitle": false,
     "tableResultSettingsMap": {},
     "title": ""
    }
   },
   "outputs": [],
   "source": [
    "# add job_id column with id to each job\n",
    "full_data = full_data.reset_index(drop=True)\n",
    "full_data['job_id'] = full_data.index"
   ]
  },
  {
   "cell_type": "markdown",
   "metadata": {
    "application/vnd.databricks.v1+cell": {
     "cellMetadata": {
      "byteLimit": 2048000,
      "rowLimit": 10000
     },
     "inputWidgets": {},
     "nuid": "7577885b-f042-42b9-a65d-b0bbbc00fd7f",
     "showTitle": false,
     "tableResultSettingsMap": {},
     "title": ""
    }
   },
   "source": [
    "### Final Data for Firat Stage:"
   ]
  },
  {
   "cell_type": "code",
   "execution_count": null,
   "metadata": {
    "application/vnd.databricks.v1+cell": {
     "cellMetadata": {
      "byteLimit": 2048000,
      "rowLimit": 10000
     },
     "inputWidgets": {},
     "nuid": "c8a15727-6c36-4f3a-83d9-90a1901817b4",
     "showTitle": false,
     "tableResultSettingsMap": {},
     "title": ""
    }
   },
   "outputs": [],
   "source": [
    "full_data.display()"
   ]
  },
  {
   "cell_type": "markdown",
   "metadata": {
    "application/vnd.databricks.v1+cell": {
     "cellMetadata": {
      "byteLimit": 2048000,
      "rowLimit": 10000
     },
     "inputWidgets": {},
     "nuid": "05891134-dc25-4f19-b33a-da4528bbc8cf",
     "showTitle": false,
     "tableResultSettingsMap": {},
     "title": ""
    }
   },
   "source": [
    "## Merge Data Sets"
   ]
  },
  {
   "cell_type": "code",
   "execution_count": 0,
   "metadata": {
    "application/vnd.databricks.v1+cell": {
     "cellMetadata": {
      "byteLimit": 2048000,
      "rowLimit": 10000
     },
     "inputWidgets": {},
     "nuid": "0e7f244f-5e23-4b89-a9b4-10ac2db7e375",
     "showTitle": false,
     "tableResultSettingsMap": {},
     "title": ""
    }
   },
   "outputs": [],
   "source": [
    "# full_data to spark df\n",
    "full_data = spark.createDataFrame(full_data)"
   ]
  },
  {
   "cell_type": "code",
   "execution_count": 0,
   "metadata": {
    "application/vnd.databricks.v1+cell": {
     "cellMetadata": {
      "byteLimit": 2048000,
      "rowLimit": 10000
     },
     "inputWidgets": {},
     "nuid": "11b9406d-8176-49b7-acb4-ff9b5dbbc5d2",
     "showTitle": false,
     "tableResultSettingsMap": {},
     "title": ""
    }
   },
   "outputs": [
    {
     "output_type": "execute_result",
     "data": {
      "text/plain": [
       "1339790"
      ]
     },
     "execution_count": 22,
     "metadata": {}
    }
   ],
   "source": [
    "companies.count()"
   ]
  },
  {
   "cell_type": "code",
   "execution_count": 0,
   "metadata": {
    "application/vnd.databricks.v1+cell": {
     "cellMetadata": {
      "byteLimit": 2048000,
      "rowLimit": 10000
     },
     "inputWidgets": {},
     "nuid": "40cb0d06-1540-468e-845e-1f48b2664ac6",
     "showTitle": false,
     "tableResultSettingsMap": {},
     "title": ""
    }
   },
   "outputs": [
    {
     "output_type": "display_data",
     "data": {
      "application/vnd.jupyter.widget-view+json": {
       "model_id": "57197941c2eb4119a20eceb299b26238",
       "version_major": 2,
       "version_minor": 0
      },
      "text/plain": [
       "Downloading artifacts:   0%|          | 0/60 [00:00<?, ?it/s]"
      ]
     },
     "metadata": {}
    },
    {
     "output_type": "display_data",
     "data": {
      "application/vnd.jupyter.widget-view+json": {
       "model_id": "c03fbf2eb1fa4aeca418160ba9de9ed7",
       "version_major": 2,
       "version_minor": 0
      },
      "text/plain": [
       "Uploading artifacts:   0%|          | 0/4 [00:00<?, ?it/s]"
      ]
     },
     "metadata": {}
    }
   ],
   "source": [
    "# add big data based features\n",
    "companies_df= FE.companies_df_feature_engineering(companies)"
   ]
  },
  {
   "cell_type": "code",
   "execution_count": 0,
   "metadata": {
    "application/vnd.databricks.v1+cell": {
     "cellMetadata": {
      "byteLimit": 2048000,
      "rowLimit": 10000
     },
     "inputWidgets": {},
     "nuid": "2254c0d0-4ea1-4239-a1cb-a974ee573080",
     "showTitle": false,
     "tableResultSettingsMap": {},
     "title": ""
    }
   },
   "outputs": [
    {
     "output_type": "execute_result",
     "data": {
      "text/plain": [
       "1339790"
      ]
     },
     "execution_count": 24,
     "metadata": {}
    }
   ],
   "source": [
    "# see that transformationi did not reduce the number of rows\n",
    "companies_df.count()"
   ]
  },
  {
   "cell_type": "code",
   "execution_count": 0,
   "metadata": {
    "application/vnd.databricks.v1+cell": {
     "cellMetadata": {
      "byteLimit": 2048000,
      "rowLimit": 10000
     },
     "inputWidgets": {},
     "nuid": "631639ba-c230-4899-a10b-57bca6516cd5",
     "showTitle": false,
     "tableResultSettingsMap": {},
     "title": ""
    }
   },
   "outputs": [],
   "source": [
    "joined_df = companies_df.join(full_data, companies_df.name == full_data.company_name, 'inner')"
   ]
  },
  {
   "cell_type": "code",
   "execution_count": 0,
   "metadata": {
    "application/vnd.databricks.v1+cell": {
     "cellMetadata": {
      "byteLimit": 2048000,
      "rowLimit": 10000
     },
     "inputWidgets": {},
     "nuid": "d4d44298-2142-4cdc-8d2b-22f40a806788",
     "showTitle": false,
     "tableResultSettingsMap": {},
     "title": ""
    }
   },
   "outputs": [
    {
     "output_type": "execute_result",
     "data": {
      "text/plain": [
       "5244"
      ]
     },
     "execution_count": 26,
     "metadata": {}
    }
   ],
   "source": [
    "# Number of jobs to predict if Real od Fake\n",
    "joined_df.count()"
   ]
  },
  {
   "cell_type": "code",
   "execution_count": 0,
   "metadata": {
    "application/vnd.databricks.v1+cell": {
     "cellMetadata": {
      "byteLimit": 2048000,
      "rowLimit": 10000
     },
     "inputWidgets": {},
     "nuid": "669630e9-f1f5-4d69-a1b2-40c984a6b579",
     "showTitle": false,
     "tableResultSettingsMap": {},
     "title": ""
    }
   },
   "outputs": [],
   "source": [
    "# add jobs related features\n",
    "joined_df = FE.full_data_transformation(joined_df)"
   ]
  },
  {
   "cell_type": "markdown",
   "metadata": {
    "application/vnd.databricks.v1+cell": {
     "cellMetadata": {
      "byteLimit": 2048000,
      "rowLimit": 10000
     },
     "inputWidgets": {},
     "nuid": "1f7b6e2e-3ef7-4868-aa8c-69768cd061af",
     "showTitle": false,
     "tableResultSettingsMap": {},
     "title": ""
    }
   },
   "source": [
    "### Final Data for Second Stage:"
   ]
  },
  {
   "cell_type": "code",
   "execution_count": null,
   "metadata": {
    "application/vnd.databricks.v1+cell": {
     "cellMetadata": {
      "byteLimit": 2048000,
      "rowLimit": 10000
     },
     "inputWidgets": {},
     "nuid": "409a1bd0-ceb2-4f8d-97ad-a10b33b094d9",
     "showTitle": false,
     "tableResultSettingsMap": {},
     "title": ""
    }
   },
   "outputs": [],
   "source": [
    "joined_df.select('job_id','title','company_name','industries','about','employees_in_linkedin','followers','founded','headquarters','organization_type','slogan','specialties','location','salary','job_type','shift_and_schedule','work_setting','job_description','job_url','other_info','medical_specialty','job_requirements_gemini','benefits_gemini','company_description_gemini','job_description_gemini','required_education_gemini','additional_relevant_data_gemini','department_gemini','industry_gemini','has_logo','affiliate_ratio','followers_to_avg','employees_to_avg','industry_rank_score','country','investors_len','updates_len','funding_rounds','company_size_index','cluster_number','subtitle_diversity_ratio','funding_to_avg','about_similarity','description_len').display()"
   ]
  },
  {
   "cell_type": "code",
   "execution_count": 0,
   "metadata": {
    "application/vnd.databricks.v1+cell": {
     "cellMetadata": {
      "byteLimit": 2048000,
      "rowLimit": 10000
     },
     "inputWidgets": {},
     "nuid": "9296980b-3892-4aba-a883-1a23d1dd337d",
     "showTitle": false,
     "tableResultSettingsMap": {},
     "title": ""
    }
   },
   "outputs": [],
   "source": [
    "# Total num of Features is 43: \n",
    "# 9 from companies table\n",
    "# 17 from scraped data\n",
    "# 15 new engineered featured\n",
    "# 1 job_id col\n",
    "# 1 col \"company_name\" from both companies and scraped data"
   ]
  }
 ],
 "metadata": {
  "application/vnd.databricks.v1+notebook": {
   "computePreferences": null,
   "dashboards": [],
   "environmentMetadata": {
    "base_environment": "",
    "client": "1"
   },
   "language": "python",
   "notebookMetadata": {
    "pythonIndentUnit": 4
   },
   "notebookName": "final_pre_process_data",
   "widgets": {}
  },
  "language_info": {
   "name": "python"
  }
 },
 "nbformat": 4,
 "nbformat_minor": 0
}
