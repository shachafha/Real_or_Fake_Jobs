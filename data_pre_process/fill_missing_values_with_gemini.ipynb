{
 "cells": [
  {
   "cell_type": "code",
   "execution_count": 0,
   "metadata": {
    "application/vnd.databricks.v1+cell": {
     "cellMetadata": {
      "byteLimit": 2048000,
      "rowLimit": 10000
     },
     "inputWidgets": {},
     "nuid": "f5af126c-c1a6-4308-be7a-b5bd751f0d1e",
     "showTitle": false,
     "tableResultSettingsMap": {},
     "title": ""
    }
   },
   "outputs": [],
   "source": [
    "!pip install google-generativeai\n",
    "!pip install openpyxl"
   ]
  },
  {
   "cell_type": "code",
   "execution_count": 0,
   "metadata": {
    "application/vnd.databricks.v1+cell": {
     "cellMetadata": {
      "byteLimit": 2048000,
      "rowLimit": 10000
     },
     "inputWidgets": {},
     "nuid": "4125985c-5cd4-4157-8695-437d6e5b79e4",
     "showTitle": false,
     "tableResultSettingsMap": {},
     "title": ""
    }
   },
   "outputs": [],
   "source": [
    "dbutils.library.restartPython()"
   ]
  },
  {
   "cell_type": "code",
   "execution_count": 0,
   "metadata": {
    "application/vnd.databricks.v1+cell": {
     "cellMetadata": {
      "byteLimit": 2048000,
      "rowLimit": 10000
     },
     "inputWidgets": {},
     "nuid": "21261183-fbb5-45dd-81d1-dccc5a857b8a",
     "showTitle": false,
     "tableResultSettingsMap": {},
     "title": ""
    }
   },
   "outputs": [],
   "source": [
    "NAME = '<ENTER_YOUR_NAME>'"
   ]
  },
  {
   "cell_type": "code",
   "execution_count": 0,
   "metadata": {
    "application/vnd.databricks.v1+cell": {
     "cellMetadata": {
      "byteLimit": 2048000,
      "rowLimit": 10000
     },
     "inputWidgets": {},
     "nuid": "80d82ef8-bdf2-481b-97de-696e8a1f59ec",
     "showTitle": false,
     "tableResultSettingsMap": {},
     "title": ""
    }
   },
   "outputs": [],
   "source": [
    "import google.generativeai as genai\n",
    "import json\n",
    "import pandas as pd\n",
    "import os\n",
    "import time\n",
    "import random"
   ]
  },
  {
   "cell_type": "code",
   "execution_count": 0,
   "metadata": {
    "application/vnd.databricks.v1+cell": {
     "cellMetadata": {
      "byteLimit": 2048000,
      "rowLimit": 10000
     },
     "inputWidgets": {},
     "nuid": "1eade290-50f2-4409-b606-2b63ba1122d1",
     "showTitle": false,
     "tableResultSettingsMap": {},
     "title": ""
    }
   },
   "outputs": [],
   "source": [
    "gemini_api_keys = [] "
   ]
  },
  {
   "cell_type": "code",
   "execution_count": 0,
   "metadata": {
    "application/vnd.databricks.v1+cell": {
     "cellMetadata": {
      "byteLimit": 2048000,
      "rowLimit": 10000
     },
     "inputWidgets": {},
     "nuid": "f712e6a9-9f00-43e4-a77f-c2b5d33bbee4",
     "showTitle": false,
     "tableResultSettingsMap": {},
     "title": ""
    }
   },
   "outputs": [],
   "source": [
    "df = pd.read_csv(f'{NAME}_job_listings.csv')\n",
    "# remove duplicates from df\n",
    "df = df.drop_duplicates(subset=['job_posting_url'])\n",
    "all_jobs = []\n",
    "output_excel = f'full_jobs_data_{NAME}_with_AI (1).xlsx'\n",
    "# create new excel or open if already exists\n",
    "if os.path.exists(output_excel):\n",
    "       existing_data = pd.read_excel(output_excel)\n",
    "       all_jobs = existing_data.to_dict(orient='records')\n",
    "       already_filled = existing_data['job_posting_url'].tolist()\n",
    "else:\n",
    "    already_filled = []\n",
    "\n",
    "prompt = \"return [job_title], [company], [location],[job_requirements],[benefits],[company_description],[job_description],[additional_relevant_data],[department],[required_education],[industry]  based on this job description, return each value as string if not available return None. return full result in json format:\"\n",
    "i=0\n",
    "for index, row in df.iterrows():\n",
    "    if row['job_posting_url'] not in already_filled:\n",
    "        time.sleep(random.uniform(5, 10))\n",
    "        genai.configure(api_key=gemini_api_keys[i % len(gemini_api_keys)])\n",
    "        model = genai.GenerativeModel(model_name='gemini-1.5-flash')\n",
    "        # print(\"here\")\n",
    "        job_description = row['description']\n",
    "        try:\n",
    "            response = model.generate_content(prompt + job_description)\n",
    "            # print(response)\n",
    "            data = json.loads(response.text[8:-5].replace('\\n',''))\n",
    "            # add '_gemini' to the beginning of the keys to avoid conflicts with the original data\n",
    "            data = {f'{k}_gemini': v for k, v in data.items()}\n",
    "            # add the new data to the original data and add to the new excel do not change df\n",
    "            new_row = {**row, **data}\n",
    "            all_jobs.append(new_row)\n",
    "            new_data = pd.DataFrame(all_jobs)\n",
    "            new_data.to_excel(output_excel, index=False)\n",
    "            print(f\"finished {i}/ {len(df)}\")\n",
    "        except:\n",
    "            print(f'Error with row {i}')\n",
    "        i+=1\n"
   ]
  }
 ],
 "metadata": {
  "application/vnd.databricks.v1+notebook": {
   "computePreferences": null,
   "dashboards": [],
   "environmentMetadata": {
    "base_environment": "",
    "client": "1"
   },
   "language": "python",
   "notebookMetadata": {
    "pythonIndentUnit": 4
   },
   "notebookName": "gemini help",
   "widgets": {}
  },
  "language_info": {
   "name": "python"
  }
 },
 "nbformat": 4,
 "nbformat_minor": 0
}