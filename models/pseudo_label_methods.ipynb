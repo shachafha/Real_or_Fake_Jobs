{
 "cells": [
  {
   "cell_type": "code",
   "execution_count": 0,
   "metadata": {
    "application/vnd.databricks.v1+cell": {
     "cellMetadata": {
      "byteLimit": 2048000,
      "rowLimit": 10000
     },
     "inputWidgets": {},
     "nuid": "920dbd64-af89-41a2-82e6-fc48d900b476",
     "showTitle": false,
     "tableResultSettingsMap": {},
     "title": ""
    }
   },
   "outputs": [],
   "source": [
    "import json\n",
    "import pandas as pd\n",
    "import matplotlib.pyplot as plt\n",
    "import seaborn as sns\n",
    "from pyspark.ml.classification import GBTClassificationModel\n",
    "from pyspark.ml.linalg import Vectors, VectorUDT\n",
    "from pyspark.sql.functions import udf, array, concat, col\n",
    "from sentence_transformers import SentenceTransformer\n",
    "from pyspark.sql.types import ArrayType, FloatType, DoubleType\n",
    "from pyspark.sql import functions as F\n",
    "from pyspark.ml.classification import RandomForestClassifier, GBTClassifier, LogisticRegression\n",
    "from pyspark.ml.classification import MultilayerPerceptronClassifier\n",
    "from pyspark.ml.tuning import CrossValidator, ParamGridBuilder\n",
    "from pyspark.ml.evaluation import BinaryClassificationEvaluator\n",
    "from pyspark.ml.linalg import DenseVector\n",
    "from pyspark.ml.evaluation import MulticlassClassificationEvaluator\n",
    "from sklearn.metrics import balanced_accuracy_score\n",
    "from sklearn.metrics import confusion_matrix\n",
    "from pyspark.ml.feature import PCA"
   ]
  },
  {
   "cell_type": "markdown",
   "metadata": {
    "application/vnd.databricks.v1+cell": {
     "cellMetadata": {},
     "inputWidgets": {},
     "nuid": "9de4bfd7-200b-4854-b5b5-255ca5362c05",
     "showTitle": false,
     "tableResultSettingsMap": {},
     "title": ""
    }
   },
   "source": [
    "## Create pseudo-labels for scraped data"
   ]
  },
  {
   "cell_type": "code",
   "execution_count": 0,
   "metadata": {
    "application/vnd.databricks.v1+cell": {
     "cellMetadata": {
      "byteLimit": 2048000,
      "rowLimit": 10000
     },
     "inputWidgets": {},
     "nuid": "09639cf3-7837-4ada-b534-564c3b38186a",
     "showTitle": false,
     "tableResultSettingsMap": {},
     "title": ""
    }
   },
   "outputs": [],
   "source": [
    "# Load GBT Classifier that was trained on the processed kaggle df\n",
    "gbt_model = GBTClassificationModel.load(\"/dbfs/Workspace/Users/saarmanshrov@campus.technion.ac.il/gbt_model\")\n",
    "\n",
    "# Run to retrain model\n",
    "# processed_kaggle_df = pd.read_csv('processed_fake_job_postings.csv')\n",
    "# gbt = GBTClassifier(labelCol=\"fraudulent\", featuresCol=\"features\", maxDepth=10, maxIter=10, seed=1)\n",
    "# gbt_model = gbt.fit(processed_kaggle_df) "
   ]
  },
  {
   "cell_type": "code",
   "execution_count": 0,
   "metadata": {
    "application/vnd.databricks.v1+cell": {
     "cellMetadata": {
      "byteLimit": 2048000,
      "rowLimit": 10000
     },
     "inputWidgets": {},
     "nuid": "0ae735b0-41c4-4052-943a-056af3573dc3",
     "showTitle": false,
     "tableResultSettingsMap": {},
     "title": ""
    }
   },
   "outputs": [],
   "source": [
    "stg1 = pd.read_csv('pre_proccessed_data_for_first_stage.csv')\n",
    "stg2 = pd.read_csv('pre_proccessed_data_for_second_stage.csv')\n",
    "stg2 = stg2.drop_duplicates(['job_id'])"
   ]
  },
  {
   "cell_type": "markdown",
   "metadata": {
    "application/vnd.databricks.v1+cell": {
     "cellMetadata": {},
     "inputWidgets": {},
     "nuid": "095e1c76-f001-4db4-86b2-ab3a109fd3ac",
     "showTitle": false,
     "tableResultSettingsMap": {},
     "title": ""
    }
   },
   "source": [
    "Process scraped data for before pseudo-labeling"
   ]
  },
  {
   "cell_type": "code",
   "execution_count": 0,
   "metadata": {
    "application/vnd.databricks.v1+cell": {
     "cellMetadata": {
      "byteLimit": 2048000,
      "rowLimit": 10000
     },
     "inputWidgets": {},
     "nuid": "ddce5992-46ae-434a-86ec-c7a2aa442a22",
     "showTitle": false,
     "tableResultSettingsMap": {},
     "title": ""
    }
   },
   "outputs": [],
   "source": [
    "def process_data(df):\n",
    "    # Rename columns\n",
    "    remap_cols = {'job_description': 'description', 'job_requirements_gemini': 'requirements', 'required_education_gemini': 'required_education', 'benefits_gemini': 'benefits', 'company_description_gemini': 'company_profile', 'industry_gemini': 'industry', 'department_gemini': 'department', 'job_type': 'employment_type'}\n",
    "    df.rename(columns=remap_cols, inplace=True)\n",
    "    df = df[['job_id', 'title', 'department', 'company_profile', 'description', 'requirements', 'benefits', 'employment_type', 'required_education', 'industry']]\n",
    "\n",
    "    # Replace None with empty string\n",
    "    df[\"benefits\"] = df[\"benefits\"].replace(to_replace=[None], value=\"\")\n",
    "    df[\"company_profile\"] = df[\"company_profile\"].replace(to_replace=[None], value=\"\")\n",
    "    df[\"description\"] = df[\"description\"].replace(to_replace=[None], value=\"\")\n",
    "    df[\"requirements\"] = df[\"requirements\"].replace(to_replace=[None], value=\"\")\n",
    "\n",
    "    # Calculate word count\n",
    "    cols = ['company_profile', 'description', 'requirements', 'benefits']\n",
    "\n",
    "    for c in cols:\n",
    "        df[c + '_word_count'] = df[c].str.split().str.len()\n",
    "    df['total_word_count'] = df.apply(lambda row: sum(row[c].split().__len__() for c in df.columns if isinstance(row[c], str)), axis=1)\n",
    "\n",
    "    # Create all_text column\n",
    "    cols = ['title', 'department', 'company_profile', 'description', 'requirements', 'benefits', 'employment_type', 'required_education', 'industry']\n",
    "    df['all_text'] = df[cols].apply(lambda row: ' '.join(row.values.astype(str)), axis=1)\n",
    "    df = df[['job_id', 'all_text', 'company_profile_word_count', 'description_word_count', 'requirements_word_count', 'benefits_word_count', 'total_word_count']]\n",
    "\n",
    "    df = spark.createDataFrame(df)\n",
    "\n",
    "    # Load pre-trained sentence transformer model\n",
    "    model = SentenceTransformer('all-MiniLM-L6-v2') \n",
    "\n",
    "    # UDF to embed text using Sentence Transformer\n",
    "    def embed_text(text):\n",
    "        return model.encode([text]).tolist()[0] \n",
    "\n",
    "    # Register the UDF with Spark\n",
    "    embed_udf = udf(embed_text, ArrayType(FloatType())) \n",
    "\n",
    "    # Apply the UDF to the DataFrame\n",
    "    df = df.withColumn(\"embeddings_vector\", embed_udf(\"all_text\"))\n",
    "\n",
    "    # Normalize count columns\n",
    "    word_count_cols = [\"company_profile_word_count\", \"description_word_count\", \"requirements_word_count\", \"benefits_word_count\", \"total_word_count\"]\n",
    "    for wc_col in word_count_cols:\n",
    "        min_value = df.agg({f\"{wc_col}\": \"min\"}).collect()[0][0]\n",
    "        max_value = df.agg({f\"{wc_col}\": \"max\"}).collect()[0][0]\n",
    "\n",
    "        df = df.withColumn(\n",
    "            f\"{wc_col}_normalized\",\n",
    "            (F.col(wc_col) - min_value) / (max_value - min_value)\n",
    "        )\n",
    "\n",
    "    # Create numeric_features_array\n",
    "    df = df.withColumn(\n",
    "        \"numeric_features_array\",\n",
    "        array(*[F.col(f\"{wc_col}_normalized\") for wc_col in word_count_cols])\n",
    "    )\n",
    "\n",
    "    # Concatenate the numeric array with embeddings_vector\n",
    "    df = df.withColumn(\n",
    "        \"concatenated_features\",\n",
    "        concat(col(\"numeric_features_array\"), col(\"embeddings_vector\"))\n",
    "        )\n",
    "\n",
    "    def array_to_vector(array):\n",
    "        return Vectors.dense(array)\n",
    "\n",
    "    array_to_vector_udf = udf(array_to_vector, VectorUDT())\n",
    "\n",
    "    # Convert embeddings column to DenseVector\n",
    "    df = df.withColumn(\"features\", array_to_vector_udf(\"concatenated_features\"))\n",
    "    return df"
   ]
  },
  {
   "cell_type": "code",
   "execution_count": 0,
   "metadata": {
    "application/vnd.databricks.v1+cell": {
     "cellMetadata": {
      "byteLimit": 2048000,
      "rowLimit": 10000
     },
     "inputWidgets": {},
     "nuid": "9d21bf36-5c9b-4e57-af8f-e1e2067c21df",
     "showTitle": false,
     "tableResultSettingsMap": {},
     "title": ""
    }
   },
   "outputs": [
    {
     "output_type": "stream",
     "name": "stderr",
     "output_type": "stream",
     "text": [
      "/root/.ipykernel/1225/command-1256467050976307-1441995035:10: SettingWithCopyWarning: \nA value is trying to be set on a copy of a slice from a DataFrame.\nTry using .loc[row_indexer,col_indexer] = value instead\n\nSee the caveats in the documentation: https://pandas.pydata.org/pandas-docs/stable/user_guide/indexing.html#returning-a-view-versus-a-copy\n  df[\"benefits\"] = df[\"benefits\"].replace(to_replace=[None], value=\"\")\n/root/.ipykernel/1225/command-1256467050976307-1441995035:11: SettingWithCopyWarning: \nA value is trying to be set on a copy of a slice from a DataFrame.\nTry using .loc[row_indexer,col_indexer] = value instead\n\nSee the caveats in the documentation: https://pandas.pydata.org/pandas-docs/stable/user_guide/indexing.html#returning-a-view-versus-a-copy\n  df[\"company_profile\"] = df[\"company_profile\"].replace(to_replace=[None], value=\"\")\n/root/.ipykernel/1225/command-1256467050976307-1441995035:12: SettingWithCopyWarning: \nA value is trying to be set on a copy of a slice from a DataFrame.\nTry using .loc[row_indexer,col_indexer] = value instead\n\nSee the caveats in the documentation: https://pandas.pydata.org/pandas-docs/stable/user_guide/indexing.html#returning-a-view-versus-a-copy\n  df[\"description\"] = df[\"description\"].replace(to_replace=[None], value=\"\")\n/root/.ipykernel/1225/command-1256467050976307-1441995035:13: SettingWithCopyWarning: \nA value is trying to be set on a copy of a slice from a DataFrame.\nTry using .loc[row_indexer,col_indexer] = value instead\n\nSee the caveats in the documentation: https://pandas.pydata.org/pandas-docs/stable/user_guide/indexing.html#returning-a-view-versus-a-copy\n  df[\"requirements\"] = df[\"requirements\"].replace(to_replace=[None], value=\"\")\n/root/.ipykernel/1225/command-1256467050976307-1441995035:19: SettingWithCopyWarning: \nA value is trying to be set on a copy of a slice from a DataFrame.\nTry using .loc[row_indexer,col_indexer] = value instead\n\nSee the caveats in the documentation: https://pandas.pydata.org/pandas-docs/stable/user_guide/indexing.html#returning-a-view-versus-a-copy\n  df[c + '_word_count'] = df[c].str.split().str.len()\n/root/.ipykernel/1225/command-1256467050976307-1441995035:19: SettingWithCopyWarning: \nA value is trying to be set on a copy of a slice from a DataFrame.\nTry using .loc[row_indexer,col_indexer] = value instead\n\nSee the caveats in the documentation: https://pandas.pydata.org/pandas-docs/stable/user_guide/indexing.html#returning-a-view-versus-a-copy\n  df[c + '_word_count'] = df[c].str.split().str.len()\n/root/.ipykernel/1225/command-1256467050976307-1441995035:19: SettingWithCopyWarning: \nA value is trying to be set on a copy of a slice from a DataFrame.\nTry using .loc[row_indexer,col_indexer] = value instead\n\nSee the caveats in the documentation: https://pandas.pydata.org/pandas-docs/stable/user_guide/indexing.html#returning-a-view-versus-a-copy\n  df[c + '_word_count'] = df[c].str.split().str.len()\n/root/.ipykernel/1225/command-1256467050976307-1441995035:19: SettingWithCopyWarning: \nA value is trying to be set on a copy of a slice from a DataFrame.\nTry using .loc[row_indexer,col_indexer] = value instead\n\nSee the caveats in the documentation: https://pandas.pydata.org/pandas-docs/stable/user_guide/indexing.html#returning-a-view-versus-a-copy\n  df[c + '_word_count'] = df[c].str.split().str.len()\n/root/.ipykernel/1225/command-1256467050976307-1441995035:20: SettingWithCopyWarning: \nA value is trying to be set on a copy of a slice from a DataFrame.\nTry using .loc[row_indexer,col_indexer] = value instead\n\nSee the caveats in the documentation: https://pandas.pydata.org/pandas-docs/stable/user_guide/indexing.html#returning-a-view-versus-a-copy\n  df['total_word_count'] = df.apply(lambda row: sum(row[c].split().__len__() for c in df.columns if isinstance(row[c], str)), axis=1)\n/root/.ipykernel/1225/command-1256467050976307-1441995035:24: SettingWithCopyWarning: \nA value is trying to be set on a copy of a slice from a DataFrame.\nTry using .loc[row_indexer,col_indexer] = value instead\n\nSee the caveats in the documentation: https://pandas.pydata.org/pandas-docs/stable/user_guide/indexing.html#returning-a-view-versus-a-copy\n  df['all_text'] = df[cols].apply(lambda row: ' '.join(row.values.astype(str)), axis=1)\n/databricks/python/lib/python3.11/site-packages/huggingface_hub/file_download.py:1132: FutureWarning: `resume_download` is deprecated and will be removed in version 1.0.0. Downloads always resume when possible. If you want to force a new download, use `force_download=True`.\n  warnings.warn(\n"
     ]
    }
   ],
   "source": [
    "# Process the data for Method 1\n",
    "stg1_processed = process_data(stg1)"
   ]
  },
  {
   "cell_type": "markdown",
   "metadata": {
    "application/vnd.databricks.v1+cell": {
     "cellMetadata": {},
     "inputWidgets": {},
     "nuid": "b19d7318-440d-4933-b2db-51eb140a8cc1",
     "showTitle": false,
     "tableResultSettingsMap": {},
     "title": ""
    }
   },
   "source": [
    "Tag scraped data with Pseudo labels "
   ]
  },
  {
   "cell_type": "code",
   "execution_count": 0,
   "metadata": {
    "application/vnd.databricks.v1+cell": {
     "cellMetadata": {
      "byteLimit": 2048000,
      "rowLimit": 10000
     },
     "inputWidgets": {},
     "nuid": "c8f5682c-9e1c-40ca-939d-485579813228",
     "showTitle": false,
     "tableResultSettingsMap": {},
     "title": ""
    }
   },
   "outputs": [],
   "source": [
    "stg1_processed.cache()\n",
    "# Make predictions on stg1 scraped data (not yet enriched)\n",
    "predictions = gbt_model.transform(stg1_processed)\n",
    "predictions.toPandas().to_csv(\"first_stage_predictions.csv\", index=False)"
   ]
  },
  {
   "cell_type": "code",
   "execution_count": 0,
   "metadata": {
    "application/vnd.databricks.v1+cell": {
     "cellMetadata": {
      "byteLimit": 2048000,
      "rowLimit": 10000
     },
     "inputWidgets": {},
     "nuid": "1b221044-e59a-498e-861a-b0b7447fd9e1",
     "showTitle": false,
     "tableResultSettingsMap": {},
     "title": ""
    }
   },
   "outputs": [],
   "source": [
    "# Organize the predictions\n",
    "predictions = pd.read_csv(\"first_stage_predictions.csv\")\n",
    "predictions[\"probabilityArray\"] = predictions[\"probability\"].apply(json.loads)\n",
    "predictions[\"features\"] = predictions[\"features\"].apply(json.loads)\n",
    "predictions = spark.createDataFrame(predictions)"
   ]
  },
  {
   "cell_type": "markdown",
   "metadata": {
    "application/vnd.databricks.v1+cell": {
     "cellMetadata": {},
     "inputWidgets": {},
     "nuid": "6f2e5d7e-5fbf-4ec1-a3e3-9b185f0a5792",
     "showTitle": false,
     "tableResultSettingsMap": {},
     "title": ""
    }
   },
   "source": [
    "Mark high confidence pseudo-labels "
   ]
  },
  {
   "cell_type": "code",
   "execution_count": 0,
   "metadata": {
    "application/vnd.databricks.v1+cell": {
     "cellMetadata": {
      "byteLimit": 2048000,
      "rowLimit": 10000
     },
     "inputWidgets": {},
     "nuid": "78f002c1-cd59-41dc-8c7e-5c88947e09ac",
     "showTitle": false,
     "tableResultSettingsMap": {},
     "title": ""
    }
   },
   "outputs": [],
   "source": [
    "# Create a new column to indicate whether to use the data for training (probability higher than 0.8)\n",
    "predictions = predictions.withColumn(\n",
    "    \"useForTraining\",\n",
    "    F.when((col(\"prediction\") == 0) & (col(\"probabilityArray\")[0] >= 0.8), True)\n",
    "    .when((col(\"prediction\") == 1) & (col(\"probabilityArray\")[1] >= 0.8), True)\n",
    "    .otherwise(False)\n",
    ")"
   ]
  },
  {
   "cell_type": "code",
   "execution_count": 0,
   "metadata": {
    "application/vnd.databricks.v1+cell": {
     "cellMetadata": {
      "byteLimit": 2048000,
      "rowLimit": 10000
     },
     "inputWidgets": {},
     "nuid": "030e5068-17c5-4797-9766-023ad2b37c2a",
     "showTitle": false,
     "tableResultSettingsMap": {},
     "title": ""
    }
   },
   "outputs": [
    {
     "output_type": "display_data",
     "data": {
      "text/html": [
       "<style scoped>\n",
       "  .table-result-container {\n",
       "    max-height: 300px;\n",
       "    overflow: auto;\n",
       "  }\n",
       "  table, th, td {\n",
       "    border: 1px solid black;\n",
       "    border-collapse: collapse;\n",
       "  }\n",
       "  th, td {\n",
       "    padding: 5px;\n",
       "  }\n",
       "  th {\n",
       "    text-align: left;\n",
       "  }\n",
       "</style><div class='table-result-container'><table class='table-result'><thead style='background-color: white'><tr><th>useForTraining</th><th>prediction</th><th>count</th></tr></thead><tbody><tr><td>true</td><td>0.0</td><td>4931</td></tr><tr><td>false</td><td>0.0</td><td>130</td></tr><tr><td>true</td><td>1.0</td><td>45</td></tr><tr><td>false</td><td>1.0</td><td>130</td></tr></tbody></table></div>"
      ]
     },
     "metadata": {
      "application/vnd.databricks.v1+output": {
       "addedWidgets": {},
       "aggData": [],
       "aggError": "",
       "aggOverflow": false,
       "aggSchema": [],
       "aggSeriesLimitReached": false,
       "aggType": "",
       "arguments": {},
       "columnCustomDisplayInfos": {},
       "data": [
        [
         true,
         0.0,
         4931
        ],
        [
         false,
         0.0,
         130
        ],
        [
         true,
         1.0,
         45
        ],
        [
         false,
         1.0,
         130
        ]
       ],
       "datasetInfos": [],
       "dbfsResultPath": null,
       "isJsonSchema": true,
       "metadata": {},
       "overflow": false,
       "plotOptions": {
        "customPlotOptions": {},
        "displayType": "table",
        "pivotAggregation": null,
        "pivotColumns": null,
        "xColumns": null,
        "yColumns": null
       },
       "removedWidgets": [],
       "schema": [
        {
         "metadata": "{}",
         "name": "useForTraining",
         "type": "\"boolean\""
        },
        {
         "metadata": "{}",
         "name": "prediction",
         "type": "\"double\""
        },
        {
         "metadata": "{}",
         "name": "count",
         "type": "\"long\""
        }
       ],
       "type": "table"
      }
     },
     "output_type": "display_data"
    }
   ],
   "source": [
    "# Count how many useForTraining were tagged as fraudelent and how many were not\n",
    "predictions.groupBy(\"useForTraining\", \"prediction\").count().display()"
   ]
  },
  {
   "cell_type": "markdown",
   "metadata": {
    "application/vnd.databricks.v1+cell": {
     "cellMetadata": {},
     "inputWidgets": {},
     "nuid": "4ebc2900-5ab1-41fd-9fee-8fa64d22320a",
     "showTitle": false,
     "tableResultSettingsMap": {},
     "title": ""
    }
   },
   "source": [
    "Select high-confidence pseudo-labeled data for training and validating"
   ]
  },
  {
   "cell_type": "code",
   "execution_count": 0,
   "metadata": {
    "application/vnd.databricks.v1+cell": {
     "cellMetadata": {
      "byteLimit": 2048000,
      "rowLimit": 10000
     },
     "inputWidgets": {},
     "nuid": "32fddbab-d75e-47cc-b58d-81365fad3503",
     "showTitle": false,
     "tableResultSettingsMap": {},
     "title": ""
    }
   },
   "outputs": [],
   "source": [
    "# Sample the non-fraudulent data to match the fraudulent data (45 fraudulent vs ~1000 non-fraudulent)\n",
    "non_fraud = predictions.filter((col(\"prediction\") == 0) & (col(\"useForTraining\") == True))\n",
    "non_fraud_sampled = non_fraud.sample(False, 1000 / non_fraud.count(), seed=42)\n",
    "fraud = predictions.filter((col(\"prediction\") == 1) & (col(\"useForTraining\") == True))\n",
    "\n",
    "# Split the fraud/non_fraud data to train/val\n",
    "train_fraud, val_fraud = fraud.randomSplit([0.8, 0.2], seed=42)\n",
    "train_non_fraud, val_non_fraud = non_fraud_sampled.randomSplit([0.8, 0.2], seed=42)\n",
    "\n",
    "# Combine the data\n",
    "train_data = train_fraud.union(train_non_fraud)\n",
    "val_data = val_fraud.union(val_non_fraud)\n",
    "\n",
    "train_data.toPandas().to_csv(\"train_data.csv\", index=False)\n",
    "val_data.toPandas().to_csv(\"val_data.csv\", index=False)"
   ]
  },
  {
   "cell_type": "code",
   "execution_count": 0,
   "metadata": {
    "application/vnd.databricks.v1+cell": {
     "cellMetadata": {
      "byteLimit": 2048000,
      "rowLimit": 10000
     },
     "inputWidgets": {},
     "nuid": "468247ee-127c-4781-8618-ac7fa5afad69",
     "showTitle": false,
     "tableResultSettingsMap": {},
     "title": ""
    }
   },
   "outputs": [],
   "source": [
    "\n",
    "# Helper function for evaluation\n",
    "\n",
    "def calculate_eval_metrics(preds, method_num):\n",
    "    # Evaluate F1 score\n",
    "    f1_evaluator = MulticlassClassificationEvaluator(\n",
    "        labelCol=\"label\", predictionCol=\"prediction\", metricName=\"f1\"\n",
    "    )\n",
    "    f1_score = f1_evaluator.evaluate(preds)\n",
    "\n",
    "    # Assuming stg1_preds is a Spark DataFrame with columns 'label' and 'prediction'\n",
    "    preds_pd = preds.select('label', 'prediction').toPandas()\n",
    "\n",
    "    # Calculate balanced accuracy\n",
    "    balanced_acc = balanced_accuracy_score(preds_pd['label'], preds_pd['prediction'])\n",
    "\n",
    "    # Display the results\n",
    "    results = pd.DataFrame({\"F1 Score\": [f1_score], \"Balanced Accuracy\": [balanced_acc]})\n",
    "    display(results)\n",
    "\n",
    "    # Compute confusion matrix\n",
    "    cm = confusion_matrix(preds_pd['label'], preds_pd['prediction'])\n",
    "\n",
    "    # Plot confusion matrix\n",
    "    plt.figure(figsize=(7, 5))\n",
    "    sns.heatmap(cm, annot=True, fmt='d', cmap='Blues')\n",
    "    plt.xlabel('Predicted')\n",
    "    plt.ylabel('Actual')\n",
    "    plt.title(f'Confusion Matrix for Method {method_num} Predictions')\n",
    "    plt.show()\n",
    "    \n",
    "    return results\n"
   ]
  },
  {
   "cell_type": "markdown",
   "metadata": {
    "application/vnd.databricks.v1+cell": {
     "cellMetadata": {},
     "inputWidgets": {},
     "nuid": "a2350058-abfd-4ad2-a35c-12d59e200111",
     "showTitle": false,
     "tableResultSettingsMap": {},
     "title": ""
    }
   },
   "source": [
    "### Method 1: Train model"
   ]
  },
  {
   "cell_type": "code",
   "execution_count": 0,
   "metadata": {
    "application/vnd.databricks.v1+cell": {
     "cellMetadata": {
      "byteLimit": 2048000,
      "rowLimit": 10000
     },
     "inputWidgets": {},
     "nuid": "37744592-bf47-42dd-ad91-d507a1f72491",
     "showTitle": false,
     "tableResultSettingsMap": {},
     "title": ""
    }
   },
   "outputs": [],
   "source": [
    "# Convert the data to the correct format\n",
    "array_to_vector = F.udf(lambda a: Vectors.dense(a), VectorUDT())\n",
    "train_data = train_data.withColumn(\"features\", array_to_vector(\"features\"))\n",
    "train_data = train_data.withColumnRenamed(\"prediction\", \"label\")\n",
    "train_data = train_data.drop(\"rawPrediction\", \"probability\")\n",
    "\n",
    "val_data = val_data.withColumn(\"features\", array_to_vector(\"features\"))\n",
    "val_data = val_data.withColumnRenamed(\"prediction\", \"label\")\n",
    "val_data = val_data.drop(\"rawPrediction\", \"probability\")"
   ]
  },
  {
   "cell_type": "code",
   "execution_count": 0,
   "metadata": {
    "application/vnd.databricks.v1+cell": {
     "cellMetadata": {
      "byteLimit": 2048000,
      "rowLimit": 10000
     },
     "inputWidgets": {},
     "nuid": "e716ef95-955f-43c9-a805-2f5603ca7b56",
     "showTitle": false,
     "tableResultSettingsMap": {},
     "title": ""
    }
   },
   "outputs": [],
   "source": [
    "# Train the model \n",
    "# gbt_stg1 = GBTClassifier(labelCol=\"label\", featuresCol=\"features\", maxIter=10, seed=1)\n",
    "# gbt_stg1_model = gbt_stg1.fit(train_data)\n",
    "# gbt_stg1_model.save(\"/dbfs/Workspace/Users/shani.angel@campus.technion.ac.il/gbt_stg1_model\")\n",
    "\n",
    "# Load trained model instead of retraining the model\n",
    "gbt_stg1_model = GBTClassificationModel.load(\"/dbfs/Workspace/Users/shani.angel@campus.technion.ac.il/gbt_stg1_model\")\n",
    "# Tag the validation set\n",
    "stg1_preds = gbt_stg1_model.transform(val_data)\n"
   ]
  },
  {
   "cell_type": "markdown",
   "metadata": {
    "application/vnd.databricks.v1+cell": {
     "cellMetadata": {},
     "inputWidgets": {},
     "nuid": "9799d13c-97f2-47d5-8ecc-d03425d511ac",
     "showTitle": false,
     "tableResultSettingsMap": {},
     "title": ""
    }
   },
   "source": [
    "## Evaluate Method 1 Model"
   ]
  },
  {
   "cell_type": "code",
   "execution_count": 0,
   "metadata": {
    "application/vnd.databricks.v1+cell": {
     "cellMetadata": {
      "byteLimit": 2048000,
      "rowLimit": 10000
     },
     "inputWidgets": {},
     "nuid": "e5ce4132-1829-4699-a97a-2fe2aae8e446",
     "showTitle": false,
     "tableResultSettingsMap": {},
     "title": ""
    }
   },
   "outputs": [
    {
     "output_type": "display_data",
     "data": {
      "text/html": [
       "<style scoped>\n",
       "  .table-result-container {\n",
       "    max-height: 300px;\n",
       "    overflow: auto;\n",
       "  }\n",
       "  table, th, td {\n",
       "    border: 1px solid black;\n",
       "    border-collapse: collapse;\n",
       "  }\n",
       "  th, td {\n",
       "    padding: 5px;\n",
       "  }\n",
       "  th {\n",
       "    text-align: left;\n",
       "  }\n",
       "</style><div class='table-result-container'><table class='table-result'><thead style='background-color: white'><tr><th>F1 Score</th><th>Balanced Accuracy</th></tr></thead><tbody><tr><td>0.9435091971997384</td><td>0.6161242603550297</td></tr></tbody></table></div>"
      ]
     },
     "metadata": {
      "application/vnd.databricks.v1+output": {
       "addedWidgets": {},
       "aggData": [],
       "aggError": "",
       "aggOverflow": false,
       "aggSchema": [],
       "aggSeriesLimitReached": false,
       "aggType": "",
       "arguments": {},
       "columnCustomDisplayInfos": {},
       "data": [
        [
         0.9435091971997384,
         0.6161242603550297
        ]
       ],
       "datasetInfos": [],
       "dbfsResultPath": null,
       "isJsonSchema": true,
       "metadata": {},
       "overflow": false,
       "plotOptions": {
        "customPlotOptions": {},
        "displayType": "table",
        "pivotAggregation": null,
        "pivotColumns": null,
        "xColumns": null,
        "yColumns": null
       },
       "removedWidgets": [],
       "schema": [
        {
         "metadata": "{}",
         "name": "F1 Score",
         "type": "\"double\""
        },
        {
         "metadata": "{}",
         "name": "Balanced Accuracy",
         "type": "\"double\""
        }
       ],
       "type": "table"
      }
     },
     "output_type": "display_data"
    },
    {
     "output_type": "display_data",
     "data": {
      "image/png": "[encoded data removed]",
      "text/plain": [
       "<Figure size 700x500 with 2 Axes>"
      ]
     },
     "metadata": {},
     "output_type": "display_data"
    }
   ],
   "source": [
    "stg1_results = calculate_eval_metrics(stg1_preds, 1)"
   ]
  },
  {
   "cell_type": "markdown",
   "metadata": {
    "application/vnd.databricks.v1+cell": {
     "cellMetadata": {},
     "inputWidgets": {},
     "nuid": "12acda53-0f62-4704-9f99-1b5cb00de98a",
     "showTitle": false,
     "tableResultSettingsMap": {},
     "title": ""
    }
   },
   "source": [
    "## Method 2: Train model"
   ]
  },
  {
   "cell_type": "code",
   "execution_count": 0,
   "metadata": {
    "application/vnd.databricks.v1+cell": {
     "cellMetadata": {
      "byteLimit": 2048000,
      "rowLimit": 10000
     },
     "inputWidgets": {},
     "nuid": "656ed4ce-5bf7-4a59-ba27-b4c898c628db",
     "showTitle": false,
     "tableResultSettingsMap": {},
     "title": ""
    }
   },
   "outputs": [],
   "source": [
    "# Process data for Stage 2\n",
    "\n",
    "def process_data_2(df, additional_cols=[]):\n",
    "    # Rename columns\n",
    "    remap_cols = {'job_description': 'description', 'job_requirements_gemini': 'requirements', 'required_education_gemini': 'required_education', 'benefits_gemini': 'benefits', 'company_description_gemini': 'company_profile', 'industry_gemini': 'industry', 'department_gemini': 'department', 'job_type': 'employment_type'}\n",
    "    df.rename(columns=remap_cols, inplace=True)\n",
    "    df = df[['job_id', 'title', 'department', 'company_profile', 'description', 'requirements', 'benefits', 'employment_type', 'required_education', 'industry'] + additional_cols]\n",
    "    df[\"benefits\"] = df[\"benefits\"].replace(to_replace=[None], value=\"\")\n",
    "    df[\"company_profile\"] = df[\"company_profile\"].replace(to_replace=[None], value=\"\")\n",
    "    df[\"description\"] = df[\"description\"].replace(to_replace=[None], value=\"\")\n",
    "    df[\"requirements\"] = df[\"requirements\"].replace(to_replace=[None], value=\"\")\n",
    "\n",
    "    cols = ['company_profile', 'description', 'requirements', 'benefits']\n",
    "\n",
    "    for c in cols:\n",
    "        df[c + '_word_count'] = df[c].str.split().str.len()\n",
    "    \n",
    "    df['total_word_count'] = df.apply(lambda row: sum(row[c].split().__len__() for c in df.columns if isinstance(row[c], str)), axis=1)\n",
    "    cols = ['title', 'department', 'company_profile', 'description', 'requirements', 'benefits', 'employment_type', 'required_education', 'industry']\n",
    "    df['all_text'] = df[cols].apply(lambda row: ' '.join(row.values.astype(str)), axis=1)\n",
    "    df = df[['job_id', 'all_text', 'company_profile_word_count', 'description_word_count', 'requirements_word_count', 'benefits_word_count', 'total_word_count'] + additional_cols]\n",
    "\n",
    "    df = spark.createDataFrame(df)\n",
    "    # Load pre-trained sentence transformer model\n",
    "    model = SentenceTransformer('all-MiniLM-L6-v2') \n",
    "\n",
    "    # UDF to embed text using Sentence Transformer\n",
    "    def embed_text(text):\n",
    "        return model.encode([text]).tolist()[0] \n",
    "\n",
    "    # Register the UDF with Spark\n",
    "    embed_udf = udf(embed_text, ArrayType(FloatType()))  \n",
    "\n",
    "    # Apply the UDF to the DataFrame\n",
    "    df = df.withColumn(\"embeddings_vector\", embed_udf(\"all_text\"))\n",
    "\n",
    "\n",
    "    word_count_cols = [\"company_profile_word_count\", \"description_word_count\", \"requirements_word_count\", \"benefits_word_count\", \"total_word_count\"]\n",
    "    for wc_col in word_count_cols:\n",
    "        min_value = df.agg({f\"{wc_col}\": \"min\"}).collect()[0][0]\n",
    "        max_value = df.agg({f\"{wc_col}\": \"max\"}).collect()[0][0]\n",
    "\n",
    "        df = df.withColumn(\n",
    "            f\"{wc_col}_normalized\",\n",
    "            (F.col(wc_col) - min_value) / (max_value - min_value)\n",
    "        )\n",
    "\n",
    "    numeric_features = [F.col(f\"{wc_col}_normalized\") for wc_col in word_count_cols] + additional_cols\n",
    "    df = df.withColumn(\n",
    "        \"numeric_features_array\",\n",
    "        array(*numeric_features)\n",
    "    )\n",
    "\n",
    "    # Concatenate the numeric array with embeddings_vector\n",
    "    df = df.withColumn(\n",
    "        \"concatenated_features\",\n",
    "        concat(col(\"numeric_features_array\"), col(\"embeddings_vector\"))\n",
    "        )\n",
    "\n",
    "\n",
    "    def array_to_vector(array):\n",
    "        return Vectors.dense(array)\n",
    "\n",
    "    array_to_vector_udf = udf(array_to_vector, VectorUDT())\n",
    "\n",
    "    # Convert embeddings column to DenseVector\n",
    "    df = df.withColumn(\"features\", array_to_vector_udf(\"concatenated_features\"))\n",
    "    return df"
   ]
  },
  {
   "cell_type": "code",
   "execution_count": 0,
   "metadata": {
    "application/vnd.databricks.v1+cell": {
     "cellMetadata": {
      "byteLimit": 2048000,
      "rowLimit": 10000
     },
     "inputWidgets": {},
     "nuid": "d8043c70-3d81-4edc-a8f5-118f2b328056",
     "showTitle": false,
     "tableResultSettingsMap": {},
     "title": ""
    }
   },
   "outputs": [
    {
     "output_type": "stream",
     "name": "stderr",
     "output_type": "stream",
     "text": [
      "/root/.ipykernel/1225/command-1256467050976322-3557101440:8: SettingWithCopyWarning: \nA value is trying to be set on a copy of a slice from a DataFrame.\nTry using .loc[row_indexer,col_indexer] = value instead\n\nSee the caveats in the documentation: https://pandas.pydata.org/pandas-docs/stable/user_guide/indexing.html#returning-a-view-versus-a-copy\n  df[\"benefits\"] = df[\"benefits\"].replace(to_replace=[None], value=\"\")\n/root/.ipykernel/1225/command-1256467050976322-3557101440:9: SettingWithCopyWarning: \nA value is trying to be set on a copy of a slice from a DataFrame.\nTry using .loc[row_indexer,col_indexer] = value instead\n\nSee the caveats in the documentation: https://pandas.pydata.org/pandas-docs/stable/user_guide/indexing.html#returning-a-view-versus-a-copy\n  df[\"company_profile\"] = df[\"company_profile\"].replace(to_replace=[None], value=\"\")\n/root/.ipykernel/1225/command-1256467050976322-3557101440:10: SettingWithCopyWarning: \nA value is trying to be set on a copy of a slice from a DataFrame.\nTry using .loc[row_indexer,col_indexer] = value instead\n\nSee the caveats in the documentation: https://pandas.pydata.org/pandas-docs/stable/user_guide/indexing.html#returning-a-view-versus-a-copy\n  df[\"description\"] = df[\"description\"].replace(to_replace=[None], value=\"\")\n/root/.ipykernel/1225/command-1256467050976322-3557101440:11: SettingWithCopyWarning: \nA value is trying to be set on a copy of a slice from a DataFrame.\nTry using .loc[row_indexer,col_indexer] = value instead\n\nSee the caveats in the documentation: https://pandas.pydata.org/pandas-docs/stable/user_guide/indexing.html#returning-a-view-versus-a-copy\n  df[\"requirements\"] = df[\"requirements\"].replace(to_replace=[None], value=\"\")\n/root/.ipykernel/1225/command-1256467050976322-3557101440:16: SettingWithCopyWarning: \nA value is trying to be set on a copy of a slice from a DataFrame.\nTry using .loc[row_indexer,col_indexer] = value instead\n\nSee the caveats in the documentation: https://pandas.pydata.org/pandas-docs/stable/user_guide/indexing.html#returning-a-view-versus-a-copy\n  df[c + '_word_count'] = df[c].str.split().str.len()\n/root/.ipykernel/1225/command-1256467050976322-3557101440:16: SettingWithCopyWarning: \nA value is trying to be set on a copy of a slice from a DataFrame.\nTry using .loc[row_indexer,col_indexer] = value instead\n\nSee the caveats in the documentation: https://pandas.pydata.org/pandas-docs/stable/user_guide/indexing.html#returning-a-view-versus-a-copy\n  df[c + '_word_count'] = df[c].str.split().str.len()\n/root/.ipykernel/1225/command-1256467050976322-3557101440:16: SettingWithCopyWarning: \nA value is trying to be set on a copy of a slice from a DataFrame.\nTry using .loc[row_indexer,col_indexer] = value instead\n\nSee the caveats in the documentation: https://pandas.pydata.org/pandas-docs/stable/user_guide/indexing.html#returning-a-view-versus-a-copy\n  df[c + '_word_count'] = df[c].str.split().str.len()\n/root/.ipykernel/1225/command-1256467050976322-3557101440:16: SettingWithCopyWarning: \nA value is trying to be set on a copy of a slice from a DataFrame.\nTry using .loc[row_indexer,col_indexer] = value instead\n\nSee the caveats in the documentation: https://pandas.pydata.org/pandas-docs/stable/user_guide/indexing.html#returning-a-view-versus-a-copy\n  df[c + '_word_count'] = df[c].str.split().str.len()\n/root/.ipykernel/1225/command-1256467050976322-3557101440:18: SettingWithCopyWarning: \nA value is trying to be set on a copy of a slice from a DataFrame.\nTry using .loc[row_indexer,col_indexer] = value instead\n\nSee the caveats in the documentation: https://pandas.pydata.org/pandas-docs/stable/user_guide/indexing.html#returning-a-view-versus-a-copy\n  df['total_word_count'] = df.apply(lambda row: sum(row[c].split().__len__() for c in df.columns if isinstance(row[c], str)), axis=1)\n/root/.ipykernel/1225/command-1256467050976322-3557101440:20: SettingWithCopyWarning: \nA value is trying to be set on a copy of a slice from a DataFrame.\nTry using .loc[row_indexer,col_indexer] = value instead\n\nSee the caveats in the documentation: https://pandas.pydata.org/pandas-docs/stable/user_guide/indexing.html#returning-a-view-versus-a-copy\n  df['all_text'] = df[cols].apply(lambda row: ' '.join(row.values.astype(str)), axis=1)\n/databricks/python/lib/python3.11/site-packages/huggingface_hub/file_download.py:1132: FutureWarning: `resume_download` is deprecated and will be removed in version 1.0.0. Downloads always resume when possible. If you want to force a new download, use `force_download=True`.\n  warnings.warn(\n"
     ]
    },
    {
     "output_type": "execute_result",
     "data": {
      "text/plain": [
       "DataFrame[job_id: bigint, all_text: string, company_profile_word_count: bigint, description_word_count: bigint, requirements_word_count: bigint, benefits_word_count: bigint, total_word_count: bigint, affiliate_ratio: double, followers_to_avg: double, employees_to_avg: double, industry_rank_score: double, investors_len: bigint, updates_len: bigint, funding_rounds: double, company_size_index: double, cluster_number: bigint, subtitle_diversity_ratio: double, funding_to_avg: double, about_similarity: double, embeddings_vector: array<float>, company_profile_word_count_normalized: double, description_word_count_normalized: double, requirements_word_count_normalized: double, benefits_word_count_normalized: double, total_word_count_normalized: double, numeric_features_array: array<double>, concatenated_features: array<double>, features: vector]"
      ]
     },
     "execution_count": 27,
     "metadata": {},
     "output_type": "execute_result"
    }
   ],
   "source": [
    "# Engineered features based on the companies big data\n",
    "additional_features = ['affiliate_ratio','followers_to_avg','employees_to_avg','industry_rank_score','investors_len','updates_len','funding_rounds','company_size_index','cluster_number','subtitle_diversity_ratio','funding_to_avg','about_similarity']\n",
    "\n",
    "for c in additional_features:\n",
    "    stg2[c] = stg2[c].fillna(0)\n",
    "\n",
    "stg2_processed = process_data_2(stg2, additional_features)\n",
    "stg2_processed.cache()"
   ]
  },
  {
   "cell_type": "code",
   "execution_count": 0,
   "metadata": {
    "application/vnd.databricks.v1+cell": {
     "cellMetadata": {
      "byteLimit": 2048000,
      "rowLimit": 10000
     },
     "inputWidgets": {},
     "nuid": "91ad87c4-b77c-4d27-ade6-dd6227e17fbe",
     "showTitle": false,
     "tableResultSettingsMap": {},
     "title": ""
    }
   },
   "outputs": [],
   "source": [
    "# Train and validate on the same high-confidence pseudo-labeled scraped data \n",
    "train_labels = train_data.select(\"job_id\", \"label\")\n",
    "val_labels = val_data.select(\"job_id\", \"label\")\n",
    "\n",
    "stg2_train_data = stg2_processed.join(train_labels, stg2_processed.job_id == train_labels.job_id, \"inner\")\n",
    "stg2_val_data = stg2_processed.join(val_labels, stg2_processed.job_id == val_labels.job_id, \"inner\")"
   ]
  },
  {
   "cell_type": "code",
   "execution_count": 0,
   "metadata": {
    "application/vnd.databricks.v1+cell": {
     "cellMetadata": {
      "byteLimit": 2048000,
      "rowLimit": 10000
     },
     "inputWidgets": {},
     "nuid": "2e49c036-5019-4feb-b95f-797e3451bd2e",
     "showTitle": false,
     "tableResultSettingsMap": {},
     "title": ""
    }
   },
   "outputs": [],
   "source": [
    "# Train Method 2 model\n",
    "# gbt_stg2 = GBTClassifier(labelCol=\"label\", featuresCol=\"features\", maxIter=10, seed=1)\n",
    "# gbt_stg2_model = gbt_stg2.fit(stg2_train_data)\n",
    "# gbt_stg2_model.save(\"/dbfs/Workspace/Users/shani.angel@campus.technion.ac.il/gbt_stg2_model\")\n",
    "\n",
    "# Load trained model instead of retraining\n",
    "gbt_stg2_model = GBTClassificationModel.load(\"/dbfs/Workspace/Users/shani.angel@campus.technion.ac.il/gbt_stg2_model\")\n",
    "# Tag the validation set\n",
    "stg2_preds = gbt_stg2_model.transform(stg2_val_data)\n"
   ]
  },
  {
   "cell_type": "markdown",
   "metadata": {
    "application/vnd.databricks.v1+cell": {
     "cellMetadata": {},
     "inputWidgets": {},
     "nuid": "6208c780-fb95-472d-9a1f-507efa6064ba",
     "showTitle": false,
     "tableResultSettingsMap": {},
     "title": ""
    }
   },
   "source": [
    "## Evaluate Method 2 Model"
   ]
  },
  {
   "cell_type": "code",
   "execution_count": 0,
   "metadata": {
    "application/vnd.databricks.v1+cell": {
     "cellMetadata": {
      "byteLimit": 2048000,
      "rowLimit": 10000
     },
     "inputWidgets": {},
     "nuid": "8385155d-f7cc-4d1b-b6b1-5b844d0393c6",
     "showTitle": false,
     "tableResultSettingsMap": {},
     "title": ""
    }
   },
   "outputs": [
    {
     "output_type": "display_data",
     "data": {
      "text/html": [
       "<style scoped>\n",
       "  .table-result-container {\n",
       "    max-height: 300px;\n",
       "    overflow: auto;\n",
       "  }\n",
       "  table, th, td {\n",
       "    border: 1px solid black;\n",
       "    border-collapse: collapse;\n",
       "  }\n",
       "  th, td {\n",
       "    padding: 5px;\n",
       "  }\n",
       "  th {\n",
       "    text-align: left;\n",
       "  }\n",
       "</style><div class='table-result-container'><table class='table-result'><thead style='background-color: white'><tr><th>F1 Score</th><th>Balanced Accuracy</th></tr></thead><tbody><tr><td>0.9435091971997384</td><td>0.6161242603550297</td></tr></tbody></table></div>"
      ]
     },
     "metadata": {
      "application/vnd.databricks.v1+output": {
       "addedWidgets": {},
       "aggData": [],
       "aggError": "",
       "aggOverflow": false,
       "aggSchema": [],
       "aggSeriesLimitReached": false,
       "aggType": "",
       "arguments": {},
       "columnCustomDisplayInfos": {},
       "data": [
        [
         0.9435091971997384,
         0.6161242603550297
        ]
       ],
       "datasetInfos": [],
       "dbfsResultPath": null,
       "isJsonSchema": true,
       "metadata": {},
       "overflow": false,
       "plotOptions": {
        "customPlotOptions": {},
        "displayType": "table",
        "pivotAggregation": null,
        "pivotColumns": null,
        "xColumns": null,
        "yColumns": null
       },
       "removedWidgets": [],
       "schema": [
        {
         "metadata": "{}",
         "name": "F1 Score",
         "type": "\"double\""
        },
        {
         "metadata": "{}",
         "name": "Balanced Accuracy",
         "type": "\"double\""
        }
       ],
       "type": "table"
      }
     },
     "output_type": "display_data"
    },
    {
     "output_type": "display_data",
     "data": {
      "image/png": "[encoded data removed]",
      "text/plain": [
       "<Figure size 700x500 with 2 Axes>"
      ]
     },
     "metadata": {},
     "output_type": "display_data"
    }
   ],
   "source": [
    "stg2_results = calculate_eval_metrics(stg2_preds, 2)"
   ]
  },
  {
   "cell_type": "markdown",
   "metadata": {
    "application/vnd.databricks.v1+cell": {
     "cellMetadata": {},
     "inputWidgets": {},
     "nuid": "d6d4ee7c-6219-4cf6-b9cc-1f8290237e88",
     "showTitle": false,
     "tableResultSettingsMap": {},
     "title": ""
    }
   },
   "source": [
    "## Method 3: Train Model"
   ]
  },
  {
   "cell_type": "code",
   "execution_count": 0,
   "metadata": {
    "application/vnd.databricks.v1+cell": {
     "cellMetadata": {
      "byteLimit": 2048000,
      "rowLimit": 10000
     },
     "inputWidgets": {},
     "nuid": "208b8a86-dcd8-428a-bfd7-1c475525ead3",
     "showTitle": false,
     "tableResultSettingsMap": {},
     "title": ""
    }
   },
   "outputs": [],
   "source": [
    "# Process Method 3 data (no text embedding)\n",
    "def process_data_3(df, additional_cols=[]):\n",
    "    df = df[['job_id', 'company_profile', 'description', 'requirements', 'benefits'] + additional_cols]\n",
    "    df[\"benefits\"] = df[\"benefits\"].replace(to_replace=[None], value=\"\")\n",
    "    df[\"company_profile\"] = df[\"company_profile\"].replace(to_replace=[None], value=\"\")\n",
    "    df[\"description\"] = df[\"description\"].replace(to_replace=[None], value=\"\")\n",
    "    df[\"requirements\"] = df[\"requirements\"].replace(to_replace=[None], value=\"\")\n",
    "    cols = ['company_profile', 'description', 'requirements', 'benefits']\n",
    "    for c in cols:\n",
    "        df[c + '_word_count'] = df[c].str.split().str.len()\n",
    "    df['total_word_count'] = df.apply(lambda row: sum(row[c].split().__len__() for c in df.columns if isinstance(row[c], str)), axis=1)\n",
    "\n",
    "    df = spark.createDataFrame(df)\n",
    "\n",
    "    word_count_cols = [\"company_profile_word_count\", \"description_word_count\", \"requirements_word_count\", \"benefits_word_count\", \"total_word_count\"]\n",
    "    for wc_col in word_count_cols:\n",
    "        min_value = df.agg({f\"{wc_col}\": \"min\"}).collect()[0][0]\n",
    "        max_value = df.agg({f\"{wc_col}\": \"max\"}).collect()[0][0]\n",
    "\n",
    "        df = df.withColumn(\n",
    "            f\"{wc_col}_normalized\",\n",
    "            (F.col(wc_col) - min_value) / (max_value - min_value)\n",
    "        )\n",
    "\n",
    "    numeric_features = [F.col(f\"{wc_col}_normalized\") for wc_col in word_count_cols] + additional_cols\n",
    "    df = df.withColumn(\n",
    "        \"concatenated_features\",\n",
    "        array(*numeric_features)\n",
    "    )\n",
    "\n",
    "    def array_to_vector(array):\n",
    "        return Vectors.dense(array)\n",
    "    array_to_vector_udf = udf(array_to_vector, VectorUDT())\n",
    "\n",
    "    # Convert features column to DenseVector\n",
    "    df = df.withColumn(\"features\", array_to_vector_udf(\"concatenated_features\"))\n",
    "    return df"
   ]
  },
  {
   "cell_type": "code",
   "execution_count": 0,
   "metadata": {
    "application/vnd.databricks.v1+cell": {
     "cellMetadata": {
      "byteLimit": 2048000,
      "rowLimit": 10000
     },
     "inputWidgets": {},
     "nuid": "28c5b98c-5551-4d65-b0dd-300915ed9a8b",
     "showTitle": false,
     "tableResultSettingsMap": {},
     "title": ""
    }
   },
   "outputs": [
    {
     "output_type": "stream",
     "name": "stderr",
     "output_type": "stream",
     "text": [
      "/root/.ipykernel/1225/command-8881827304329695-2770780890:4: SettingWithCopyWarning: \nA value is trying to be set on a copy of a slice from a DataFrame.\nTry using .loc[row_indexer,col_indexer] = value instead\n\nSee the caveats in the documentation: https://pandas.pydata.org/pandas-docs/stable/user_guide/indexing.html#returning-a-view-versus-a-copy\n  df[\"benefits\"] = df[\"benefits\"].replace(to_replace=[None], value=\"\")\n/root/.ipykernel/1225/command-8881827304329695-2770780890:5: SettingWithCopyWarning: \nA value is trying to be set on a copy of a slice from a DataFrame.\nTry using .loc[row_indexer,col_indexer] = value instead\n\nSee the caveats in the documentation: https://pandas.pydata.org/pandas-docs/stable/user_guide/indexing.html#returning-a-view-versus-a-copy\n  df[\"company_profile\"] = df[\"company_profile\"].replace(to_replace=[None], value=\"\")\n/root/.ipykernel/1225/command-8881827304329695-2770780890:6: SettingWithCopyWarning: \nA value is trying to be set on a copy of a slice from a DataFrame.\nTry using .loc[row_indexer,col_indexer] = value instead\n\nSee the caveats in the documentation: https://pandas.pydata.org/pandas-docs/stable/user_guide/indexing.html#returning-a-view-versus-a-copy\n  df[\"description\"] = df[\"description\"].replace(to_replace=[None], value=\"\")\n/root/.ipykernel/1225/command-8881827304329695-2770780890:7: SettingWithCopyWarning: \nA value is trying to be set on a copy of a slice from a DataFrame.\nTry using .loc[row_indexer,col_indexer] = value instead\n\nSee the caveats in the documentation: https://pandas.pydata.org/pandas-docs/stable/user_guide/indexing.html#returning-a-view-versus-a-copy\n  df[\"requirements\"] = df[\"requirements\"].replace(to_replace=[None], value=\"\")\n/root/.ipykernel/1225/command-8881827304329695-2770780890:10: SettingWithCopyWarning: \nA value is trying to be set on a copy of a slice from a DataFrame.\nTry using .loc[row_indexer,col_indexer] = value instead\n\nSee the caveats in the documentation: https://pandas.pydata.org/pandas-docs/stable/user_guide/indexing.html#returning-a-view-versus-a-copy\n  df[c + '_word_count'] = df[c].str.split().str.len()\n/root/.ipykernel/1225/command-8881827304329695-2770780890:10: SettingWithCopyWarning: \nA value is trying to be set on a copy of a slice from a DataFrame.\nTry using .loc[row_indexer,col_indexer] = value instead\n\nSee the caveats in the documentation: https://pandas.pydata.org/pandas-docs/stable/user_guide/indexing.html#returning-a-view-versus-a-copy\n  df[c + '_word_count'] = df[c].str.split().str.len()\n/root/.ipykernel/1225/command-8881827304329695-2770780890:10: SettingWithCopyWarning: \nA value is trying to be set on a copy of a slice from a DataFrame.\nTry using .loc[row_indexer,col_indexer] = value instead\n\nSee the caveats in the documentation: https://pandas.pydata.org/pandas-docs/stable/user_guide/indexing.html#returning-a-view-versus-a-copy\n  df[c + '_word_count'] = df[c].str.split().str.len()\n/root/.ipykernel/1225/command-8881827304329695-2770780890:10: SettingWithCopyWarning: \nA value is trying to be set on a copy of a slice from a DataFrame.\nTry using .loc[row_indexer,col_indexer] = value instead\n\nSee the caveats in the documentation: https://pandas.pydata.org/pandas-docs/stable/user_guide/indexing.html#returning-a-view-versus-a-copy\n  df[c + '_word_count'] = df[c].str.split().str.len()\n/root/.ipykernel/1225/command-8881827304329695-2770780890:11: SettingWithCopyWarning: \nA value is trying to be set on a copy of a slice from a DataFrame.\nTry using .loc[row_indexer,col_indexer] = value instead\n\nSee the caveats in the documentation: https://pandas.pydata.org/pandas-docs/stable/user_guide/indexing.html#returning-a-view-versus-a-copy\n  df['total_word_count'] = df.apply(lambda row: sum(row[c].split().__len__() for c in df.columns if isinstance(row[c], str)), axis=1)\n"
     ]
    }
   ],
   "source": [
    "# Process Method 3 data\n",
    "stg3_processed = process_data_3(stg2, additional_features)"
   ]
  },
  {
   "cell_type": "code",
   "execution_count": 0,
   "metadata": {
    "application/vnd.databricks.v1+cell": {
     "cellMetadata": {
      "byteLimit": 2048000,
      "rowLimit": 10000
     },
     "inputWidgets": {},
     "nuid": "5549c57c-15de-44e8-b200-c69151567cf8",
     "showTitle": false,
     "tableResultSettingsMap": {},
     "title": ""
    }
   },
   "outputs": [],
   "source": [
    "# Train and validate on the same high-confidence pseudo-labeled scraped data \n",
    "train_labels = train_data.select(\"job_id\", \"label\")\n",
    "val_labels = val_data.select(\"job_id\", \"label\")\n",
    "\n",
    "stg3_train_data = stg3_processed.join(train_labels, stg3_processed.job_id == train_labels.job_id, \"inner\")\n",
    "stg3_val_data = stg3_processed.join(val_labels, stg3_processed.job_id == val_labels.job_id, \"inner\")"
   ]
  },
  {
   "cell_type": "code",
   "execution_count": 0,
   "metadata": {
    "application/vnd.databricks.v1+cell": {
     "cellMetadata": {
      "byteLimit": 2048000,
      "rowLimit": 10000
     },
     "inputWidgets": {},
     "nuid": "aa637c42-8a08-4046-a015-034478c265bc",
     "showTitle": false,
     "tableResultSettingsMap": {},
     "title": ""
    }
   },
   "outputs": [
    {
     "output_type": "display_data",
     "data": {
      "application/vnd.jupyter.widget-view+json": {
       "model_id": "bdcdabe7fbe64236812b3508c935e0c0",
       "version_major": 2,
       "version_minor": 0
      },
      "text/plain": [
       "Downloading artifacts:   0%|          | 0/20 [00:00<?, ?it/s]"
      ]
     },
     "metadata": {},
     "output_type": "display_data"
    },
    {
     "output_type": "display_data",
     "data": {
      "application/vnd.jupyter.widget-view+json": {
       "model_id": "3ee13f9365bd4b388162f34b2ad044df",
       "version_major": 2,
       "version_minor": 0
      },
      "text/plain": [
       "Uploading artifacts:   0%|          | 0/4 [00:00<?, ?it/s]"
      ]
     },
     "metadata": {},
     "output_type": "display_data"
    }
   ],
   "source": [
    "# Train Method 3 model\n",
    "# gbt_stg3 = GBTClassifier(labelCol=\"label\", featuresCol=\"features\", maxIter=10, seed=1)\n",
    "# gbt_stg3_model = gbt_stg3.fit(stg3_train_data)\n",
    "# gbt_stg3_model.write().overwrite().save(\"/dbfs/Workspace/Users/shani.angel@campus.technion.ac.il/gbt_stg3_model\")\n",
    "\n",
    "# Load trained model instead of retraining\n",
    "gbt_stg3_model = GBTClassificationModel.load(\"/dbfs/Workspace/Users/shani.angel@campus.technion.ac.il/gbt_stg3_model\")\n",
    "\n",
    "# Tag the validation set\n",
    "stg3_preds = gbt_stg3_model.transform(stg3_val_data)"
   ]
  },
  {
   "cell_type": "markdown",
   "metadata": {
    "application/vnd.databricks.v1+cell": {
     "cellMetadata": {},
     "inputWidgets": {},
     "nuid": "ffed906e-bf03-4cdc-9397-dfd5f7d6c4cb",
     "showTitle": false,
     "tableResultSettingsMap": {},
     "title": ""
    }
   },
   "source": [
    "## Evaluate Method 3 Model"
   ]
  },
  {
   "cell_type": "code",
   "execution_count": 0,
   "metadata": {
    "application/vnd.databricks.v1+cell": {
     "cellMetadata": {
      "byteLimit": 2048000,
      "rowLimit": 10000
     },
     "inputWidgets": {},
     "nuid": "437516ce-7cbe-4b73-98db-d294f2bb7261",
     "showTitle": false,
     "tableResultSettingsMap": {},
     "title": ""
    }
   },
   "outputs": [
    {
     "output_type": "display_data",
     "data": {
      "text/html": [
       "<style scoped>\n",
       "  .table-result-container {\n",
       "    max-height: 300px;\n",
       "    overflow: auto;\n",
       "  }\n",
       "  table, th, td {\n",
       "    border: 1px solid black;\n",
       "    border-collapse: collapse;\n",
       "  }\n",
       "  th, td {\n",
       "    padding: 5px;\n",
       "  }\n",
       "  th {\n",
       "    text-align: left;\n",
       "  }\n",
       "</style><div class='table-result-container'><table class='table-result'><thead style='background-color: white'><tr><th>F1 Score</th><th>Balanced Accuracy</th></tr></thead><tbody><tr><td>0.92130042620676</td><td>0.4881656804733728</td></tr></tbody></table></div>"
      ]
     },
     "metadata": {
      "application/vnd.databricks.v1+output": {
       "addedWidgets": {},
       "aggData": [],
       "aggError": "",
       "aggOverflow": false,
       "aggSchema": [],
       "aggSeriesLimitReached": false,
       "aggType": "",
       "arguments": {},
       "columnCustomDisplayInfos": {},
       "data": [
        [
         0.92130042620676,
         0.4881656804733728
        ]
       ],
       "datasetInfos": [],
       "dbfsResultPath": null,
       "isJsonSchema": true,
       "metadata": {},
       "overflow": false,
       "plotOptions": {
        "customPlotOptions": {},
        "displayType": "table",
        "pivotAggregation": null,
        "pivotColumns": null,
        "xColumns": null,
        "yColumns": null
       },
       "removedWidgets": [],
       "schema": [
        {
         "metadata": "{}",
         "name": "F1 Score",
         "type": "\"double\""
        },
        {
         "metadata": "{}",
         "name": "Balanced Accuracy",
         "type": "\"double\""
        }
       ],
       "type": "table"
      }
     },
     "output_type": "display_data"
    },
    {
     "output_type": "display_data",
     "data": {
      "image/png": "[encoded data removed]",
      "text/plain": [
       "<Figure size 700x500 with 2 Axes>"
      ]
     },
     "metadata": {},
     "output_type": "display_data"
    }
   ],
   "source": [
    "stg3_results = calculate_eval_metrics(stg3_preds, 3)"
   ]
  },
  {
   "cell_type": "markdown",
   "metadata": {
    "application/vnd.databricks.v1+cell": {
     "cellMetadata": {},
     "inputWidgets": {},
     "nuid": "6fd1cdee-49af-4528-b727-314731328a31",
     "showTitle": false,
     "tableResultSettingsMap": {},
     "title": ""
    }
   },
   "source": [
    "## Method 4: Train model"
   ]
  },
  {
   "cell_type": "code",
   "execution_count": 0,
   "metadata": {
    "application/vnd.databricks.v1+cell": {
     "cellMetadata": {
      "byteLimit": 2048000,
      "rowLimit": 10000
     },
     "inputWidgets": {},
     "nuid": "803c198a-6fa7-4366-b1c1-f06d3581da43",
     "showTitle": false,
     "tableResultSettingsMap": {},
     "title": ""
    }
   },
   "outputs": [],
   "source": [
    "# Process Method 4 data (reduced text embedding dimension)\n",
    "\n",
    "def process_data_4(df, additional_cols=[]):\n",
    "    remap_cols = {'job_description': 'description', 'job_requirements_gemini': 'requirements', \n",
    "                  'required_education_gemini': 'required_education', 'benefits_gemini': 'benefits', \n",
    "                  'company_description_gemini': 'company_profile', 'industry_gemini': 'industry', \n",
    "                  'department_gemini': 'department', 'job_type': 'employment_type'}\n",
    "    \n",
    "    df.rename(columns=remap_cols, inplace=True)\n",
    "    df = df[['job_id', 'title', 'department', 'company_profile', 'description', 'requirements', \n",
    "             'benefits', 'employment_type', 'required_education', 'industry'] + additional_cols]\n",
    "    \n",
    "    df[\"benefits\"] = df[\"benefits\"].replace(to_replace=[None], value=\"\")\n",
    "    df[\"company_profile\"] = df[\"company_profile\"].replace(to_replace=[None], value=\"\")\n",
    "    df[\"description\"] = df[\"description\"].replace(to_replace=[None], value=\"\")\n",
    "    df[\"requirements\"] = df[\"requirements\"].replace(to_replace=[None], value=\"\")\n",
    "\n",
    "    cols = ['company_profile', 'description', 'requirements', 'benefits']\n",
    "    for c in cols:\n",
    "        df[c + '_word_count'] = df[c].str.split().str.len()\n",
    "\n",
    "    df['total_word_count'] = df.apply(lambda row: sum(row[c].split().__len__() for c in df.columns if isinstance(row[c], str)), axis=1)\n",
    "    cols = ['title', 'department', 'company_profile', 'description', 'requirements', 'benefits', 'employment_type', 'required_education', 'industry']\n",
    "    df['all_text'] = df[cols].apply(lambda row: ' '.join(row.values.astype(str)), axis=1)\n",
    "    df = df[['job_id', 'all_text', 'company_profile_word_count', 'description_word_count', \n",
    "             'requirements_word_count', 'benefits_word_count', 'total_word_count'] + additional_cols]\n",
    "\n",
    "    df = spark.createDataFrame(df)\n",
    "\n",
    "    # Load pre-trained sentence transformer model\n",
    "    model = SentenceTransformer('all-MiniLM-L6-v2')\n",
    "\n",
    "    # UDF to embed text using Sentence Transformer\n",
    "    def embed_text(text):\n",
    "        return model.encode([text]).tolist()[0]  \n",
    "\n",
    "    embed_udf = udf(embed_text, ArrayType(FloatType()))\n",
    "    df = df.withColumn(\"embeddings_vector\", embed_udf(\"all_text\"))\n",
    "\n",
    "    # Normalize word count columns\n",
    "    word_count_cols = [\"company_profile_word_count\", \"description_word_count\", \"requirements_word_count\", \"benefits_word_count\", \"total_word_count\"]\n",
    "    for wc_col in word_count_cols:\n",
    "        min_value = df.agg({f\"{wc_col}\": \"min\"}).collect()[0][0]\n",
    "        max_value = df.agg({f\"{wc_col}\": \"max\"}).collect()[0][0]\n",
    "\n",
    "        df = df.withColumn(\n",
    "            f\"{wc_col}_normalized\",\n",
    "            (col(wc_col) - min_value) / (max_value - min_value)\n",
    "        )\n",
    "\n",
    "    numeric_features = [col(f\"{wc_col}_normalized\") for wc_col in word_count_cols] + additional_cols\n",
    "\n",
    "    numeric_features_casted = [col(f\"{wc_col}_normalized\").cast(\"float\") for wc_col in word_count_cols] + [col(c).cast(\"float\") for c in additional_cols]\n",
    "\n",
    "    df = df.withColumn(\"numeric_features_array\", array(*numeric_features_casted))\n",
    "\n",
    "\n",
    "    # Apply PCA to reduce dimensionality of embeddings\n",
    "    df = df.withColumn(\"embeddings_vector_dense\", udf(lambda x: Vectors.dense(x), VectorUDT())(col(\"embeddings_vector\")))\n",
    "    pca_dim = 50  \n",
    "    pca = PCA(k=pca_dim, inputCol=\"embeddings_vector_dense\", outputCol=\"pca_embeddings\")\n",
    "    pca_model = pca.fit(df)\n",
    "    df = pca_model.transform(df)\n",
    "\n",
    "    def extract_values_from_vector(vect):\n",
    "        if isinstance(vect, DenseVector):\n",
    "            return vect.values.tolist()  \n",
    "        return []\n",
    "\n",
    "    # Register the UDF\n",
    "    extract_values_udf = udf(extract_values_from_vector, ArrayType(FloatType()))\n",
    "\n",
    "    # Apply the UDF to the DataFrame to get the values as an array\n",
    "    df = df.withColumn(\"pca_embeddings_array\", extract_values_udf(col(\"pca_embeddings\")))\n",
    "\n",
    "    # Concatenate the numeric array with embeddings_vector\n",
    "    df = df.withColumn(\n",
    "        \"concatenated_features\",\n",
    "        concat(col(\"numeric_features_array\"), col(\"pca_embeddings_array\"))\n",
    "        )\n",
    "\n",
    "    # Convert concatenated array to dense vector for model training\n",
    "    def array_to_vector(array):\n",
    "        return Vectors.dense(array)\n",
    "\n",
    "    array_to_vector_udf = udf(array_to_vector, VectorUDT())\n",
    "    df = df.withColumn(\"features\", array_to_vector_udf(\"concatenated_features\"))\n",
    "    \n",
    "    return df\n"
   ]
  },
  {
   "cell_type": "code",
   "execution_count": 0,
   "metadata": {
    "application/vnd.databricks.v1+cell": {
     "cellMetadata": {
      "byteLimit": 2048000,
      "rowLimit": 10000
     },
     "inputWidgets": {},
     "nuid": "d699dfe2-bc0c-47f9-859b-15a4f8178a72",
     "showTitle": false,
     "tableResultSettingsMap": {},
     "title": ""
    }
   },
   "outputs": [
    {
     "output_type": "stream",
     "name": "stderr",
     "output_type": "stream",
     "text": [
      "/root/.ipykernel/1225/command-8881827304330131-1924403650:13: SettingWithCopyWarning: \nA value is trying to be set on a copy of a slice from a DataFrame.\nTry using .loc[row_indexer,col_indexer] = value instead\n\nSee the caveats in the documentation: https://pandas.pydata.org/pandas-docs/stable/user_guide/indexing.html#returning-a-view-versus-a-copy\n  df[\"benefits\"] = df[\"benefits\"].replace(to_replace=[None], value=\"\")\n/root/.ipykernel/1225/command-8881827304330131-1924403650:14: SettingWithCopyWarning: \nA value is trying to be set on a copy of a slice from a DataFrame.\nTry using .loc[row_indexer,col_indexer] = value instead\n\nSee the caveats in the documentation: https://pandas.pydata.org/pandas-docs/stable/user_guide/indexing.html#returning-a-view-versus-a-copy\n  df[\"company_profile\"] = df[\"company_profile\"].replace(to_replace=[None], value=\"\")\n/root/.ipykernel/1225/command-8881827304330131-1924403650:15: SettingWithCopyWarning: \nA value is trying to be set on a copy of a slice from a DataFrame.\nTry using .loc[row_indexer,col_indexer] = value instead\n\nSee the caveats in the documentation: https://pandas.pydata.org/pandas-docs/stable/user_guide/indexing.html#returning-a-view-versus-a-copy\n  df[\"description\"] = df[\"description\"].replace(to_replace=[None], value=\"\")\n/root/.ipykernel/1225/command-8881827304330131-1924403650:16: SettingWithCopyWarning: \nA value is trying to be set on a copy of a slice from a DataFrame.\nTry using .loc[row_indexer,col_indexer] = value instead\n\nSee the caveats in the documentation: https://pandas.pydata.org/pandas-docs/stable/user_guide/indexing.html#returning-a-view-versus-a-copy\n  df[\"requirements\"] = df[\"requirements\"].replace(to_replace=[None], value=\"\")\n/root/.ipykernel/1225/command-8881827304330131-1924403650:20: SettingWithCopyWarning: \nA value is trying to be set on a copy of a slice from a DataFrame.\nTry using .loc[row_indexer,col_indexer] = value instead\n\nSee the caveats in the documentation: https://pandas.pydata.org/pandas-docs/stable/user_guide/indexing.html#returning-a-view-versus-a-copy\n  df[c + '_word_count'] = df[c].str.split().str.len()\n/root/.ipykernel/1225/command-8881827304330131-1924403650:20: SettingWithCopyWarning: \nA value is trying to be set on a copy of a slice from a DataFrame.\nTry using .loc[row_indexer,col_indexer] = value instead\n\nSee the caveats in the documentation: https://pandas.pydata.org/pandas-docs/stable/user_guide/indexing.html#returning-a-view-versus-a-copy\n  df[c + '_word_count'] = df[c].str.split().str.len()\n/root/.ipykernel/1225/command-8881827304330131-1924403650:20: SettingWithCopyWarning: \nA value is trying to be set on a copy of a slice from a DataFrame.\nTry using .loc[row_indexer,col_indexer] = value instead\n\nSee the caveats in the documentation: https://pandas.pydata.org/pandas-docs/stable/user_guide/indexing.html#returning-a-view-versus-a-copy\n  df[c + '_word_count'] = df[c].str.split().str.len()\n/root/.ipykernel/1225/command-8881827304330131-1924403650:20: SettingWithCopyWarning: \nA value is trying to be set on a copy of a slice from a DataFrame.\nTry using .loc[row_indexer,col_indexer] = value instead\n\nSee the caveats in the documentation: https://pandas.pydata.org/pandas-docs/stable/user_guide/indexing.html#returning-a-view-versus-a-copy\n  df[c + '_word_count'] = df[c].str.split().str.len()\n/root/.ipykernel/1225/command-8881827304330131-1924403650:22: SettingWithCopyWarning: \nA value is trying to be set on a copy of a slice from a DataFrame.\nTry using .loc[row_indexer,col_indexer] = value instead\n\nSee the caveats in the documentation: https://pandas.pydata.org/pandas-docs/stable/user_guide/indexing.html#returning-a-view-versus-a-copy\n  df['total_word_count'] = df.apply(lambda row: sum(row[c].split().__len__() for c in df.columns if isinstance(row[c], str)), axis=1)\n/root/.ipykernel/1225/command-8881827304330131-1924403650:24: SettingWithCopyWarning: \nA value is trying to be set on a copy of a slice from a DataFrame.\nTry using .loc[row_indexer,col_indexer] = value instead\n\nSee the caveats in the documentation: https://pandas.pydata.org/pandas-docs/stable/user_guide/indexing.html#returning-a-view-versus-a-copy\n  df['all_text'] = df[cols].apply(lambda row: ' '.join(row.values.astype(str)), axis=1)\n/databricks/python/lib/python3.11/site-packages/huggingface_hub/file_download.py:1132: FutureWarning: `resume_download` is deprecated and will be removed in version 1.0.0. Downloads always resume when possible. If you want to force a new download, use `force_download=True`.\n  warnings.warn(\n"
     ]
    }
   ],
   "source": [
    "# Process data for stage 4\n",
    "additional_features = ['affiliate_ratio','followers_to_avg','employees_to_avg','industry_rank_score','investors_len','updates_len','funding_rounds','company_size_index','cluster_number','subtitle_diversity_ratio','funding_to_avg','about_similarity']\n",
    "\n",
    "for c in additional_features:\n",
    "    stg2[c] = stg2[c].fillna(0)\n",
    "\n",
    "stg4_processed = process_data_4(stg2, additional_features)"
   ]
  },
  {
   "cell_type": "code",
   "execution_count": 0,
   "metadata": {
    "application/vnd.databricks.v1+cell": {
     "cellMetadata": {
      "byteLimit": 2048000,
      "rowLimit": 10000
     },
     "inputWidgets": {},
     "nuid": "20275874-f855-40c5-ad12-75acec1390e6",
     "showTitle": false,
     "tableResultSettingsMap": {},
     "title": ""
    }
   },
   "outputs": [],
   "source": [
    "# Train and validate on the same high-confidence pseudo-labeled scraped data \n",
    "train_labels = train_data.select(\"job_id\", \"label\")\n",
    "val_labels = val_data.select(\"job_id\", \"label\")\n",
    "\n",
    "stg4_train_data = stg4_processed.join(train_labels, stg4_processed.job_id == train_labels.job_id, \"inner\")\n",
    "stg4_val_data = stg4_processed.join(val_labels, stg4_processed.job_id == val_labels.job_id, \"inner\")"
   ]
  },
  {
   "cell_type": "code",
   "execution_count": 0,
   "metadata": {
    "application/vnd.databricks.v1+cell": {
     "cellMetadata": {
      "byteLimit": 2048000,
      "rowLimit": 10000
     },
     "inputWidgets": {},
     "nuid": "7f036120-7b2c-4fb5-b672-b800a24f56aa",
     "showTitle": false,
     "tableResultSettingsMap": {},
     "title": ""
    }
   },
   "outputs": [],
   "source": [
    "# Train model\n",
    "# gbt_stg4 = GBTClassifier(labelCol=\"label\", featuresCol=\"features\", maxIter=10, seed=1)\n",
    "# gbt_stg4_model = gbt_stg4.fit(stg4_train_data)\n",
    "# gbt_stg4_model.save(\"/dbfs/Workspace/Users/shani.angel@campus.technion.ac.il/gbt_stg4_model\")\n",
    "\n",
    "# load instead of running\n",
    "gbt_stg4_model = GBTClassificationModel.load(\"/dbfs/Workspace/Users/shani.angel@campus.technion.ac.il/gbt_stg4_model\")\n",
    "# Tag validation set\n",
    "stg4_preds = gbt_stg4_model.transform(stg4_val_data)\n"
   ]
  },
  {
   "cell_type": "code",
   "execution_count": 0,
   "metadata": {
    "application/vnd.databricks.v1+cell": {
     "cellMetadata": {
      "byteLimit": 2048000,
      "rowLimit": 10000
     },
     "inputWidgets": {},
     "nuid": "fd9c0b80-1d6a-45c5-90be-33de8fe1863e",
     "showTitle": false,
     "tableResultSettingsMap": {},
     "title": ""
    }
   },
   "outputs": [
    {
     "output_type": "display_data",
     "data": {
      "text/html": [
       "<style scoped>\n",
       "  .table-result-container {\n",
       "    max-height: 300px;\n",
       "    overflow: auto;\n",
       "  }\n",
       "  table, th, td {\n",
       "    border: 1px solid black;\n",
       "    border-collapse: collapse;\n",
       "  }\n",
       "  th, td {\n",
       "    padding: 5px;\n",
       "  }\n",
       "  th {\n",
       "    text-align: left;\n",
       "  }\n",
       "</style><div class='table-result-container'><table class='table-result'><thead style='background-color: white'><tr><th>F1 Score</th><th>Balanced Accuracy</th></tr></thead><tbody><tr><td>0.9395887510564251</td><td>0.6697485207100592</td></tr></tbody></table></div>"
      ]
     },
     "metadata": {
      "application/vnd.databricks.v1+output": {
       "addedWidgets": {},
       "aggData": [],
       "aggError": "",
       "aggOverflow": false,
       "aggSchema": [],
       "aggSeriesLimitReached": false,
       "aggType": "",
       "arguments": {},
       "columnCustomDisplayInfos": {},
       "data": [
        [
         0.9395887510564251,
         0.6697485207100592
        ]
       ],
       "datasetInfos": [],
       "dbfsResultPath": null,
       "isJsonSchema": true,
       "metadata": {},
       "overflow": false,
       "plotOptions": {
        "customPlotOptions": {},
        "displayType": "table",
        "pivotAggregation": null,
        "pivotColumns": null,
        "xColumns": null,
        "yColumns": null
       },
       "removedWidgets": [],
       "schema": [
        {
         "metadata": "{}",
         "name": "F1 Score",
         "type": "\"double\""
        },
        {
         "metadata": "{}",
         "name": "Balanced Accuracy",
         "type": "\"double\""
        }
       ],
       "type": "table"
      }
     },
     "output_type": "display_data"
    },
    {
     "output_type": "display_data",
     "data": {
      "image/png": "[encoded data removed]",
      "text/plain": [
       "<Figure size 700x500 with 2 Axes>"
      ]
     },
     "metadata": {},
     "output_type": "display_data"
    }
   ],
   "source": [
    "stg4_results = calculate_eval_metrics(stg4_preds, 4)"
   ]
  },
  {
   "cell_type": "markdown",
   "metadata": {
    "application/vnd.databricks.v1+cell": {
     "cellMetadata": {},
     "inputWidgets": {},
     "nuid": "38f870b7-1676-4b17-a9c8-9e9822417a0c",
     "showTitle": false,
     "tableResultSettingsMap": {},
     "title": ""
    }
   },
   "source": [
    "## Tag all scraped data using Method 4 model"
   ]
  },
  {
   "cell_type": "code",
   "execution_count": 0,
   "metadata": {
    "application/vnd.databricks.v1+cell": {
     "cellMetadata": {
      "byteLimit": 2048000,
      "rowLimit": 10000
     },
     "inputWidgets": {},
     "nuid": "c298d593-a966-4560-97aa-e6bb72ec3476",
     "showTitle": false,
     "tableResultSettingsMap": {},
     "title": ""
    }
   },
   "outputs": [
    {
     "output_type": "stream",
     "name": "stderr",
     "output_type": "stream",
     "text": [
      "/root/.ipykernel/1225/command-8881827304330131-1924403650:13: SettingWithCopyWarning: \nA value is trying to be set on a copy of a slice from a DataFrame.\nTry using .loc[row_indexer,col_indexer] = value instead\n\nSee the caveats in the documentation: https://pandas.pydata.org/pandas-docs/stable/user_guide/indexing.html#returning-a-view-versus-a-copy\n  df[\"benefits\"] = df[\"benefits\"].replace(to_replace=[None], value=\"\")\n/root/.ipykernel/1225/command-8881827304330131-1924403650:14: SettingWithCopyWarning: \nA value is trying to be set on a copy of a slice from a DataFrame.\nTry using .loc[row_indexer,col_indexer] = value instead\n\nSee the caveats in the documentation: https://pandas.pydata.org/pandas-docs/stable/user_guide/indexing.html#returning-a-view-versus-a-copy\n  df[\"company_profile\"] = df[\"company_profile\"].replace(to_replace=[None], value=\"\")\n/root/.ipykernel/1225/command-8881827304330131-1924403650:15: SettingWithCopyWarning: \nA value is trying to be set on a copy of a slice from a DataFrame.\nTry using .loc[row_indexer,col_indexer] = value instead\n\nSee the caveats in the documentation: https://pandas.pydata.org/pandas-docs/stable/user_guide/indexing.html#returning-a-view-versus-a-copy\n  df[\"description\"] = df[\"description\"].replace(to_replace=[None], value=\"\")\n/root/.ipykernel/1225/command-8881827304330131-1924403650:16: SettingWithCopyWarning: \nA value is trying to be set on a copy of a slice from a DataFrame.\nTry using .loc[row_indexer,col_indexer] = value instead\n\nSee the caveats in the documentation: https://pandas.pydata.org/pandas-docs/stable/user_guide/indexing.html#returning-a-view-versus-a-copy\n  df[\"requirements\"] = df[\"requirements\"].replace(to_replace=[None], value=\"\")\n/root/.ipykernel/1225/command-8881827304330131-1924403650:20: SettingWithCopyWarning: \nA value is trying to be set on a copy of a slice from a DataFrame.\nTry using .loc[row_indexer,col_indexer] = value instead\n\nSee the caveats in the documentation: https://pandas.pydata.org/pandas-docs/stable/user_guide/indexing.html#returning-a-view-versus-a-copy\n  df[c + '_word_count'] = df[c].str.split().str.len()\n/root/.ipykernel/1225/command-8881827304330131-1924403650:20: SettingWithCopyWarning: \nA value is trying to be set on a copy of a slice from a DataFrame.\nTry using .loc[row_indexer,col_indexer] = value instead\n\nSee the caveats in the documentation: https://pandas.pydata.org/pandas-docs/stable/user_guide/indexing.html#returning-a-view-versus-a-copy\n  df[c + '_word_count'] = df[c].str.split().str.len()\n/root/.ipykernel/1225/command-8881827304330131-1924403650:20: SettingWithCopyWarning: \nA value is trying to be set on a copy of a slice from a DataFrame.\nTry using .loc[row_indexer,col_indexer] = value instead\n\nSee the caveats in the documentation: https://pandas.pydata.org/pandas-docs/stable/user_guide/indexing.html#returning-a-view-versus-a-copy\n  df[c + '_word_count'] = df[c].str.split().str.len()\n/root/.ipykernel/1225/command-8881827304330131-1924403650:20: SettingWithCopyWarning: \nA value is trying to be set on a copy of a slice from a DataFrame.\nTry using .loc[row_indexer,col_indexer] = value instead\n\nSee the caveats in the documentation: https://pandas.pydata.org/pandas-docs/stable/user_guide/indexing.html#returning-a-view-versus-a-copy\n  df[c + '_word_count'] = df[c].str.split().str.len()\n/root/.ipykernel/1225/command-8881827304330131-1924403650:22: SettingWithCopyWarning: \nA value is trying to be set on a copy of a slice from a DataFrame.\nTry using .loc[row_indexer,col_indexer] = value instead\n\nSee the caveats in the documentation: https://pandas.pydata.org/pandas-docs/stable/user_guide/indexing.html#returning-a-view-versus-a-copy\n  df['total_word_count'] = df.apply(lambda row: sum(row[c].split().__len__() for c in df.columns if isinstance(row[c], str)), axis=1)\n/root/.ipykernel/1225/command-8881827304330131-1924403650:24: SettingWithCopyWarning: \nA value is trying to be set on a copy of a slice from a DataFrame.\nTry using .loc[row_indexer,col_indexer] = value instead\n\nSee the caveats in the documentation: https://pandas.pydata.org/pandas-docs/stable/user_guide/indexing.html#returning-a-view-versus-a-copy\n  df['all_text'] = df[cols].apply(lambda row: ' '.join(row.values.astype(str)), axis=1)\n/databricks/python/lib/python3.11/site-packages/huggingface_hub/file_download.py:1132: FutureWarning: `resume_download` is deprecated and will be removed in version 1.0.0. Downloads always resume when possible. If you want to force a new download, use `force_download=True`.\n  warnings.warn(\n"
     ]
    }
   ],
   "source": [
    "# Process all scraped data using Method 4\n",
    "scraped_processed = process_data_4(stg2, additional_features)\n",
    "\n",
    "# Make predictions\n",
    "scraped_predictions = gbt_stg4_model.transform(scraped_processed)\n",
    "scraped_predictions.toPandas().to_csv(\"scraped_predictions_method_4.csv\", index=False)"
   ]
  },
  {
   "cell_type": "markdown",
   "metadata": {
    "application/vnd.databricks.v1+cell": {
     "cellMetadata": {},
     "inputWidgets": {},
     "nuid": "96e51284-cc3c-4dff-b273-e3ba001eb058",
     "showTitle": false,
     "tableResultSettingsMap": {},
     "title": ""
    }
   },
   "source": []
  }
 ],
 "metadata": {
  "application/vnd.databricks.v1+notebook": {
   "computePreferences": null,
   "dashboards": [],
   "environmentMetadata": {
    "base_environment": "",
    "client": "1"
   },
   "language": "python",
   "notebookMetadata": {
    "pythonIndentUnit": 4
   },
   "notebookName": "pseudo_label_methods",
   "widgets": {}
  },
  "language_info": {
   "name": "python"
  }
 },
 "nbformat": 4,
 "nbformat_minor": 0
}